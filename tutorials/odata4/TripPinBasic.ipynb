{
 "cells": [
  {
   "cell_type": "markdown",
   "metadata": {},
   "source": [
    "This is a quick tutorial on using OData v4 with Pyslet.  It roughly follows the basic examples here: http://www.odata.org/odata-services/\n",
    "\n",
    "If you want to watch a video tutorial for this notebook there's one on YouTube here: http://www.youtube.com/watch?v=_HkKwK9ePcI"
   ]
  },
  {
   "cell_type": "code",
   "execution_count": 1,
   "metadata": {
    "collapsed": true
   },
   "outputs": [],
   "source": [
    "import logging\n",
    "logging.basicConfig(level=logging.INFO)\n",
    "from pyslet.odata4.client import Client"
   ]
  },
  {
   "cell_type": "markdown",
   "metadata": {},
   "source": [
    "The following little trick enables us to catch and print errors that happen when running cells.  (Sometimes we generate errors deliberately to illustrate a point.)"
   ]
  },
  {
   "cell_type": "code",
   "execution_count": 2,
   "metadata": {
    "collapsed": true
   },
   "outputs": [],
   "source": [
    "from IPython.core.magic import register_cell_magic\n",
    "\n",
    "@register_cell_magic\n",
    "def handle(line, cell):\n",
    "    try:\n",
    "        exec(cell)\n",
    "    except Exception as e:\n",
    "        msg = str(e)\n",
    "        if msg:\n",
    "            print(msg)\n",
    "        else:\n",
    "            print(type(e))"
   ]
  },
  {
   "cell_type": "markdown",
   "metadata": {},
   "source": [
    "You can get the URL of the TripPin reference service from the OData website, it uses a redirect to a URL containing a session token enabling us to demonstrate data modification too, nice!  Pyslet also parses the metadata document when you create the Client object which it uses to enforce the correct typing and behaviours on data model objects."
   ]
  },
  {
   "cell_type": "code",
   "execution_count": 3,
   "metadata": {},
   "outputs": [
    {
     "name": "stderr",
     "output_type": "stream",
     "text": [
      "INFO:root:Sending request to b'services.odata.org'\n",
      "INFO:root:b'GET /TripPinRESTierService HTTP/1.1'\n",
      "INFO:root:Finished Response, status 302\n",
      "WARNING:root:Relative Location header: /TripPinRESTierService/(S(g4pnn5efcxp35hzannam0w5y))/\n",
      "INFO:root:Resending request to: http://services.odata.org/TripPinRESTierService/(S(g4pnn5efcxp35hzannam0w5y))/\n",
      "INFO:root:Sending request to b'services.odata.org'\n",
      "INFO:root:b'GET /TripPinRESTierService/(S(g4pnn5efcxp35hzannam0w5y))/ HTTP/1.1'\n",
      "INFO:root:Finished Response, status 200\n",
      "INFO:root:Sending request to b'services.odata.org'\n",
      "INFO:root:b'GET /TripPinRESTierService/(S(g4pnn5efcxp35hzannam0w5y))/$metadata HTTP/1.1'\n",
      "INFO:root:Finished Response, status 200\n",
      "INFO:root:Service metadata format: application/xml\n",
      "WARNING:root:Ignored inline Annotation on: <pyslet.odata4.metadata.Member object at 0x110751048>\n",
      "WARNING:root:Ignored inline Annotation on: <pyslet.odata4.metadata.Member object at 0x110751470>\n",
      "WARNING:root:Ignored inline Annotation on: <pyslet.odata4.metadata.Member object at 0x110751390>\n"
     ]
    }
   ],
   "source": [
    "svc = Client('http://services.odata.org/TripPinRESTierService')"
   ]
  },
  {
   "cell_type": "markdown",
   "metadata": {},
   "source": [
    "OData services expose an EntityContainer containing EntitySets (like SQL Tables) and Singletons bound to specific URLs in the service document.  You can open an EntitySet directly from the client object which is treated as a reference to the data service."
   ]
  },
  {
   "cell_type": "code",
   "execution_count": 4,
   "metadata": {},
   "outputs": [
    {
     "name": "stdout",
     "output_type": "stream",
     "text": [
      "<class 'pyslet.odata4.model.EntitySetValue'>\n",
      "<class 'pyslet.odata4.model.EntitySetType'>\n",
      "<class 'pyslet.odata4.model.EntityType'>\n"
     ]
    },
    {
     "data": {
      "text/plain": [
       "'Microsoft.OData.Service.Sample.TrippinInMemory.Models.Person'"
      ]
     },
     "execution_count": 4,
     "metadata": {},
     "output_type": "execute_result"
    }
   ],
   "source": [
    "people = svc.open('People')\n",
    "print(type(people))\n",
    "print(type(people.type_def))\n",
    "print(type(people.type_def.item_type))\n",
    "people.type_def.item_type.qname"
   ]
  },
  {
   "cell_type": "markdown",
   "metadata": {},
   "source": [
    "Pyslet's OData support is dictionary-like.  An EntitySet is a collection of Entities each of which has a key.  It behaves like a mapping from the entity key to the entity value.  When you iterate a dictionary you get the keys... '"
   ]
  },
  {
   "cell_type": "code",
   "execution_count": 5,
   "metadata": {},
   "outputs": [
    {
     "name": "stderr",
     "output_type": "stream",
     "text": [
      "INFO:root:Sending request to b'services.odata.org'\n",
      "INFO:root:b'GET /TripPinRESTierService/(S(jkpqxr4da4sxn3zoc0d1haqq))/People HTTP/1.1'\n",
      "INFO:root:Finished Response, status 200\n"
     ]
    },
    {
     "name": "stdout",
     "output_type": "stream",
     "text": [
      "russellwhyte\n",
      "scottketchum\n"
     ]
    },
    {
     "data": {
      "text/plain": [
       "['ronaldmundy',\n",
       " 'javieralfred',\n",
       " 'willieashmore',\n",
       " 'vincentcalabrese',\n",
       " 'clydeguess',\n",
       " 'keithpinckney',\n",
       " 'marshallgaray',\n",
       " 'ryantheriault',\n",
       " 'elainestewart',\n",
       " 'salliesampson',\n",
       " 'jonirosales',\n",
       " 'georginabarlow',\n",
       " 'angelhuffman',\n",
       " 'laurelosborn',\n",
       " 'sandyosborn',\n",
       " 'ursulabright',\n",
       " 'genevievereeves',\n",
       " 'kristakemp']"
      ]
     },
     "execution_count": 5,
     "metadata": {},
     "output_type": "execute_result"
    }
   ],
   "source": [
    "ip = iter(people)\n",
    "print(next(ip))\n",
    "print(next(ip))\n",
    "list(ip)"
   ]
  },
  {
   "cell_type": "markdown",
   "metadata": {},
   "source": [
    "The EntitySetValue object caches information to minimise the number of requests it has to make to the data source.  When we access an entity by key we get the cached value, if available.  If we explicitly clear the cache we force the object to retrieve the data from the service again."
   ]
  },
  {
   "cell_type": "code",
   "execution_count": 6,
   "metadata": {},
   "outputs": [
    {
     "name": "stderr",
     "output_type": "stream",
     "text": [
      "INFO:root:Sending request to b'services.odata.org'\n",
      "INFO:root:b\"GET /TripPinRESTierService/(S(jkpqxr4da4sxn3zoc0d1haqq))/People('russellwhyte') HTTP/1.1\"\n",
      "INFO:root:Finished Response, status 200\n"
     ]
    },
    {
     "name": "stdout",
     "output_type": "stream",
     "text": [
      "4570305424\n",
      "4570345032\n"
     ]
    }
   ],
   "source": [
    "russellwhyte = people['russellwhyte']\n",
    "print(id(russellwhyte))\n",
    "people.clear_cache()\n",
    "russellwhyte = people['russellwhyte']\n",
    "print(id(russellwhyte))"
   ]
  },
  {
   "cell_type": "code",
   "execution_count": 7,
   "metadata": {},
   "outputs": [
    {
     "name": "stderr",
     "output_type": "stream",
     "text": [
      "INFO:root:Sending request to b'services.odata.org'\n",
      "INFO:root:b\"GET /TripPinRESTierService/(S(jkpqxr4da4sxn3zoc0d1haqq))/Airports('KSFO') HTTP/1.1\"\n",
      "INFO:root:Finished Response, status 200\n"
     ]
    },
    {
     "name": "stdout",
     "output_type": "stream",
     "text": [
      "EntityValue of type Microsoft.OData.Service.Sample.TrippinInMemory.Models.Airport\n",
      "['Name', 'IataCode', 'IcaoCode', 'Location']\n",
      "<class 'pyslet.odata4.primitive.StringValue'>\n",
      "San Francisco International Airport\n"
     ]
    }
   ],
   "source": [
    "airports = svc.open('Airports')\n",
    "sfo = airports['KSFO']\n",
    "print(sfo)\n",
    "print(list(sfo.keys()))\n",
    "print(type(sfo['Name']))\n",
    "print(sfo['Name'].get_value())"
   ]
  },
  {
   "cell_type": "code",
   "execution_count": 8,
   "metadata": {},
   "outputs": [
    {
     "name": "stderr",
     "output_type": "stream",
     "text": [
      "INFO:root:Sending request to b'services.odata.org'\n",
      "INFO:root:b\"GET /TripPinRESTierService/(S(jkpqxr4da4sxn3zoc0d1haqq))/Airports('KSFO')/Name HTTP/1.1\"\n",
      "INFO:root:Finished Response, status 200\n"
     ]
    },
    {
     "name": "stdout",
     "output_type": "stream",
     "text": [
      "True\n",
      "Mills Field Municipal Airport\n",
      "False\n",
      "San Francisco International Airport\n"
     ]
    }
   ],
   "source": [
    "sfo['Name'].set_value('Mills Field Municipal Airport')\n",
    "print(sfo['Name'].dirty)\n",
    "print(sfo['Name'].get_value())\n",
    "sfo['Name'].reload()\n",
    "print(sfo['Name'].dirty)\n",
    "print(sfo['Name'].get_value())"
   ]
  },
  {
   "cell_type": "code",
   "execution_count": 9,
   "metadata": {},
   "outputs": [
    {
     "name": "stderr",
     "output_type": "stream",
     "text": [
      "INFO:root:Sending request to b'services.odata.org'\n",
      "INFO:root:b\"GET /TripPinRESTierService/(S(jkpqxr4da4sxn3zoc0d1haqq))/Airports('KSFO')/Location/Address HTTP/1.1\"\n",
      "INFO:root:Finished Response, status 200\n",
      "INFO:root:Sending request to b'services.odata.org'\n",
      "INFO:root:b\"GET /TripPinRESTierService/(S(jkpqxr4da4sxn3zoc0d1haqq))/Airports('KSFO')/Location HTTP/1.1\"\n"
     ]
    },
    {
     "name": "stdout",
     "output_type": "stream",
     "text": [
      "<class 'pyslet.odata4.primitive.StringValue'>\n",
      "ComplexValue of type Microsoft.OData.Service.Sample.TrippinInMemory.Models.AirportLocation\n"
     ]
    },
    {
     "name": "stderr",
     "output_type": "stream",
     "text": [
      "INFO:root:Finished Response, status 200\n"
     ]
    }
   ],
   "source": [
    "print(type(sfo['Location']['Address']))\n",
    "sfo['Location']['Address'].reload()\n",
    "print(sfo['Location'])\n",
    "sfo['Location'].reload()"
   ]
  },
  {
   "cell_type": "code",
   "execution_count": 10,
   "metadata": {},
   "outputs": [
    {
     "name": "stderr",
     "output_type": "stream",
     "text": [
      "INFO:root:Sending request to b'services.odata.org'\n",
      "INFO:root:b\"GET /TripPinRESTierService/(S(jkpqxr4da4sxn3zoc0d1haqq))/People('russellwhyte')/AddressInfo HTTP/1.1\"\n",
      "INFO:root:Finished Response, status 200\n"
     ]
    },
    {
     "name": "stdout",
     "output_type": "stream",
     "text": [
      "EntityValue of type Microsoft.OData.Service.Sample.TrippinInMemory.Models.Person\n",
      "<class 'pyslet.odata4.model.CollectionValue'>\n",
      "1\n",
      "ComplexValue of type Microsoft.OData.Service.Sample.TrippinInMemory.Models.Location\n"
     ]
    }
   ],
   "source": [
    "print(russellwhyte)\n",
    "print(type(russellwhyte['AddressInfo']))\n",
    "print(len(russellwhyte['AddressInfo']))\n",
    "print(russellwhyte['AddressInfo'][0])\n",
    "russellwhyte['AddressInfo'].reload()"
   ]
  },
  {
   "cell_type": "markdown",
   "metadata": {},
   "source": [
    "To filter an EntitySet we just add a filter to our people object.  This effectively reduces the size of the dictionary to include only entities that match the filter.  The cache is cleared automatically."
   ]
  },
  {
   "cell_type": "code",
   "execution_count": 11,
   "metadata": {},
   "outputs": [
    {
     "name": "stderr",
     "output_type": "stream",
     "text": [
      "INFO:root:Sending request to b'services.odata.org'\n",
      "INFO:root:b\"GET /TripPinRESTierService/(S(jkpqxr4da4sxn3zoc0d1haqq))/People?%24filter=FirstName%20eq%20'Scott' HTTP/1.1\"\n",
      "INFO:root:Finished Response, status 200\n"
     ]
    },
    {
     "data": {
      "text/plain": [
       "['scottketchum']"
      ]
     },
     "execution_count": 11,
     "metadata": {},
     "output_type": "execute_result"
    }
   ],
   "source": [
    "people.set_filter(\"FirstName eq 'Scott'\")\n",
    "[p for p in people]"
   ]
  },
  {
   "cell_type": "markdown",
   "metadata": {},
   "source": [
    "Pyslet contains an expression parser so if you forget your OData syntax you'll get an error from Python and not from the remote service"
   ]
  },
  {
   "cell_type": "code",
   "execution_count": 12,
   "metadata": {},
   "outputs": [
    {
     "name": "stdout",
     "output_type": "stream",
     "text": [
      "ParserError: expected end at [9]\n"
     ]
    }
   ],
   "source": [
    "%%handle\n",
    "people.set_filter(\"FirstName == 'Scott'\")"
   ]
  },
  {
   "cell_type": "code",
   "execution_count": 13,
   "metadata": {},
   "outputs": [
    {
     "name": "stderr",
     "output_type": "stream",
     "text": [
      "INFO:root:Sending request to b'services.odata.org'\n",
      "INFO:root:b\"GET /TripPinRESTierService/(S(jkpqxr4da4sxn3zoc0d1haqq))/Airports?%24filter=contains(Location%2FAddress%2C'San%20Francisco') HTTP/1.1\"\n",
      "INFO:root:Finished Response, status 200\n"
     ]
    },
    {
     "data": {
      "text/plain": [
       "['KSFO']"
      ]
     },
     "execution_count": 13,
     "metadata": {},
     "output_type": "execute_result"
    }
   ],
   "source": [
    "airports.set_filter(\"contains(Location/Address, 'San Francisco')\")\n",
    "[a for a in airports]"
   ]
  },
  {
   "cell_type": "code",
   "execution_count": 14,
   "metadata": {},
   "outputs": [
    {
     "name": "stderr",
     "output_type": "stream",
     "text": [
      "INFO:root:Sending request to b'services.odata.org'\n",
      "INFO:root:b\"GET /TripPinRESTierService/(S(jkpqxr4da4sxn3zoc0d1haqq))/People?%24filter=Gender%20eq%20Microsoft.OData.Service.Sample.TrippinInMemory.Models.PersonGender'Female' HTTP/1.1\"\n",
      "INFO:root:Finished Response, status 200\n"
     ]
    },
    {
     "data": {
      "text/plain": [
       "['elainestewart',\n",
       " 'salliesampson',\n",
       " 'jonirosales',\n",
       " 'georginabarlow',\n",
       " 'angelhuffman',\n",
       " 'laurelosborn',\n",
       " 'sandyosborn',\n",
       " 'ursulabright',\n",
       " 'genevievereeves',\n",
       " 'kristakemp']"
      ]
     },
     "execution_count": 14,
     "metadata": {},
     "output_type": "execute_result"
    }
   ],
   "source": [
    "people.set_filter(\"Gender eq Microsoft.OData.Service.Sample.TrippinInMemory.Models.PersonGender'Female'\")\n",
    "[p for p in people]"
   ]
  },
  {
   "cell_type": "markdown",
   "metadata": {},
   "source": [
    "These filters reduce the number of entities in our entity set.  Another type of filtering involves reducing the number of properties returned for each entity.  By default, *all* properties are selected.  As soon as we select a specific property then only those we've explicitly selected are returned."
   ]
  },
  {
   "cell_type": "code",
   "execution_count": 15,
   "metadata": {},
   "outputs": [
    {
     "name": "stderr",
     "output_type": "stream",
     "text": [
      "INFO:root:Sending request to b'services.odata.org'\n",
      "INFO:root:b'GET /TripPinRESTierService/(S(jkpqxr4da4sxn3zoc0d1haqq))/Airports?%24select=Name%2CIcaoCode HTTP/1.1'\n",
      "INFO:root:Finished Response, status 200\n"
     ]
    },
    {
     "data": {
      "text/plain": [
       "['KSFO', 'KLAX', 'ZSSS', 'ZBAA', 'KJFK']"
      ]
     },
     "execution_count": 15,
     "metadata": {},
     "output_type": "execute_result"
    }
   ],
   "source": [
    "airports.select(\"Name\")\n",
    "airports.select(\"IcaoCode\")\n",
    "airports.set_filter(None)\n",
    "[a for a in airports]"
   ]
  },
  {
   "cell_type": "code",
   "execution_count": 16,
   "metadata": {},
   "outputs": [
    {
     "data": {
      "text/plain": [
       "['Name', 'IcaoCode']"
      ]
     },
     "execution_count": 16,
     "metadata": {},
     "output_type": "execute_result"
    }
   ],
   "source": [
    "sfo = airports['KSFO']\n",
    "list(sfo.keys())"
   ]
  },
  {
   "cell_type": "markdown",
   "metadata": {},
   "source": [
    "The next example involves a navigation property.  By default, navigation properties are not expanded and don't appear in the property dictionary of the Entity, let's remove the filter from people and *expand* a navigation property."
   ]
  },
  {
   "cell_type": "code",
   "execution_count": 17,
   "metadata": {},
   "outputs": [
    {
     "name": "stderr",
     "output_type": "stream",
     "text": [
      "INFO:root:Sending request to b'services.odata.org'\n",
      "INFO:root:b\"GET /TripPinRESTierService/(S(jkpqxr4da4sxn3zoc0d1haqq))/People('scottketchum')?%24expand=Trips HTTP/1.1\"\n",
      "INFO:root:Finished Response, status 200\n",
      "WARNING:root:Fixing missing ID for entity http://services.odata.org/TripPinRESTierService/(S(jkpqxr4da4sxn3zoc0d1haqq))/People(null)/Trips(3)\n",
      "WARNING:root:Fixing missing ID for entity http://services.odata.org/TripPinRESTierService/(S(jkpqxr4da4sxn3zoc0d1haqq))/People(null)/Trips(4)\n"
     ]
    },
    {
     "data": {
      "text/plain": [
       "<pyslet.odata4.model.CollectionValue at 0x1106c25c0>"
      ]
     },
     "execution_count": 17,
     "metadata": {},
     "output_type": "execute_result"
    }
   ],
   "source": [
    "people.set_filter(None)\n",
    "people.expand(\"Trips\")\n",
    "scottketchum = people['scottketchum']\n",
    "scottketchum['Trips']"
   ]
  },
  {
   "cell_type": "markdown",
   "metadata": {},
   "source": [
    "You might expect this to be an EntitySet, rather than a collection.  Afterall, this is a navigation property that relates a person to a collection of Trip *entities*..."
   ]
  },
  {
   "cell_type": "code",
   "execution_count": 18,
   "metadata": {},
   "outputs": [
    {
     "name": "stdout",
     "output_type": "stream",
     "text": [
      "<class 'pyslet.odata4.model.EntityType'>\n",
      "Microsoft.OData.Service.Sample.TrippinInMemory.Models.Trip\n"
     ]
    }
   ],
   "source": [
    "print(type(scottketchum['Trips'].type_def.item_type))\n",
    "print(scottketchum['Trips'].type_def.item_type.qname)"
   ]
  },
  {
   "cell_type": "markdown",
   "metadata": {},
   "source": [
    "The reason for this is beyond the scope of a basic tutorial but if you want to know the answer, take a closer look at the metadata description of the TripPin service.  Pay close attention to the definition of the People EntitySet!  Although we can't look up Trips by key we can still apply an ordering (or a filter) to the output."
   ]
  },
  {
   "cell_type": "code",
   "execution_count": 19,
   "metadata": {},
   "outputs": [
    {
     "name": "stderr",
     "output_type": "stream",
     "text": [
      "INFO:root:Sending request to b'services.odata.org'\n",
      "INFO:root:b\"GET /TripPinRESTierService/(S(jkpqxr4da4sxn3zoc0d1haqq))/People('scottketchum')/Trips?%24orderby=EndsAt%20desc HTTP/1.1\"\n",
      "INFO:root:Finished Response, status 200\n",
      "WARNING:root:Fixing missing ID for entity http://services.odata.org/TripPinRESTierService/(S(jkpqxr4da4sxn3zoc0d1haqq))/People('scottketchum')/Trips(4)\n",
      "WARNING:root:Fixing missing ID for entity http://services.odata.org/TripPinRESTierService/(S(jkpqxr4da4sxn3zoc0d1haqq))/People('scottketchum')/Trips(3)\n"
     ]
    },
    {
     "data": {
      "text/plain": [
       "['2014-02-04T00:00:00Z', '2014-01-04T00:00:00Z']"
      ]
     },
     "execution_count": 19,
     "metadata": {},
     "output_type": "execute_result"
    }
   ],
   "source": [
    "scottketchum['Trips'].set_orderby(\"EndsAt desc\")\n",
    "[str(t['EndsAt']) for t in scottketchum['Trips']]"
   ]
  },
  {
   "cell_type": "code",
   "execution_count": 20,
   "metadata": {},
   "outputs": [
    {
     "name": "stderr",
     "output_type": "stream",
     "text": [
      "INFO:root:Sending request to b'services.odata.org'\n",
      "INFO:root:b\"GET /TripPinRESTierService/(S(jkpqxr4da4sxn3zoc0d1haqq))/People('scottketchum')/Trips?%24orderby=EndsAt%20asc HTTP/1.1\"\n",
      "INFO:root:Finished Response, status 200\n",
      "WARNING:root:Fixing missing ID for entity http://services.odata.org/TripPinRESTierService/(S(jkpqxr4da4sxn3zoc0d1haqq))/People('scottketchum')/Trips(3)\n",
      "WARNING:root:Fixing missing ID for entity http://services.odata.org/TripPinRESTierService/(S(jkpqxr4da4sxn3zoc0d1haqq))/People('scottketchum')/Trips(4)\n"
     ]
    },
    {
     "data": {
      "text/plain": [
       "['2014-01-04T00:00:00Z', '2014-02-04T00:00:00Z']"
      ]
     },
     "execution_count": 20,
     "metadata": {},
     "output_type": "execute_result"
    }
   ],
   "source": [
    "scottketchum['Trips'].set_orderby(\"EndsAt asc\")\n",
    "[str(t['EndsAt']) for t in scottketchum['Trips']]"
   ]
  },
  {
   "cell_type": "markdown",
   "metadata": {},
   "source": [
    "If you're familiar with Pyslet's OData v2 support watch out for the handling of top/skip, we now treat them the same as any other filter, effectively reducing the size of the collection (or entity set) to include only those entities in the designated range.  They're always set together."
   ]
  },
  {
   "cell_type": "code",
   "execution_count": 21,
   "metadata": {},
   "outputs": [
    {
     "name": "stderr",
     "output_type": "stream",
     "text": [
      "INFO:root:Sending request to b'services.odata.org'\n",
      "INFO:root:b'GET /TripPinRESTierService/(S(jkpqxr4da4sxn3zoc0d1haqq))/People?%24top=2 HTTP/1.1'\n",
      "INFO:root:Finished Response, status 200\n"
     ]
    },
    {
     "data": {
      "text/plain": [
       "['angelhuffman', 'clydeguess']"
      ]
     },
     "execution_count": 21,
     "metadata": {},
     "output_type": "execute_result"
    }
   ],
   "source": [
    "people.collapse(\"Trips\")\n",
    "people.set_page(top=2)\n",
    "[p for p in people]"
   ]
  },
  {
   "cell_type": "code",
   "execution_count": 22,
   "metadata": {},
   "outputs": [
    {
     "name": "stderr",
     "output_type": "stream",
     "text": [
      "INFO:root:Sending request to b'services.odata.org'\n",
      "INFO:root:b'GET /TripPinRESTierService/(S(jkpqxr4da4sxn3zoc0d1haqq))/People?%24skip=18 HTTP/1.1'\n",
      "INFO:root:Finished Response, status 200\n"
     ]
    },
    {
     "data": {
      "text/plain": [
       "['vincentcalabrese', 'willieashmore']"
      ]
     },
     "execution_count": 22,
     "metadata": {},
     "output_type": "execute_result"
    }
   ],
   "source": [
    "people.set_page(top=None, skip=18)\n",
    "[p for p in people]"
   ]
  },
  {
   "cell_type": "code",
   "execution_count": 23,
   "metadata": {},
   "outputs": [
    {
     "name": "stderr",
     "output_type": "stream",
     "text": [
      "INFO:root:Sending request to b'services.odata.org'\n",
      "INFO:root:b'GET /TripPinRESTierService/(S(jkpqxr4da4sxn3zoc0d1haqq))/People/%24count HTTP/1.1'\n",
      "INFO:root:Finished Response, status 200\n"
     ]
    },
    {
     "data": {
      "text/plain": [
       "20"
      ]
     },
     "execution_count": 23,
     "metadata": {},
     "output_type": "execute_result"
    }
   ],
   "source": [
    "people.set_page(top=None)\n",
    "len(people)"
   ]
  },
  {
   "cell_type": "markdown",
   "metadata": {},
   "source": [
    "Singletons are like EntitySets except that they contain only one entity.  You can use select and expand but you can't use filters or ordering.  They are not indexable, to retrieve the entity they contain you just *call* them. "
   ]
  },
  {
   "cell_type": "code",
   "execution_count": 24,
   "metadata": {},
   "outputs": [
    {
     "name": "stderr",
     "output_type": "stream",
     "text": [
      "INFO:root:Sending request to b'services.odata.org'\n",
      "INFO:root:b'GET /TripPinRESTierService/(S(jkpqxr4da4sxn3zoc0d1haqq))/Me?%24expand=Friends HTTP/1.1'\n",
      "INFO:root:Finished Response, status 200\n",
      "WARNING:root:Fixing missing ID for entity http://services.odata.org/TripPinRESTierService/(S(jkpqxr4da4sxn3zoc0d1haqq))/Me/Friends('russellwhyte')\n",
      "WARNING:root:Fixing missing ID for entity http://services.odata.org/TripPinRESTierService/(S(jkpqxr4da4sxn3zoc0d1haqq))/Me/Friends('scottketchum')\n"
     ]
    },
    {
     "name": "stdout",
     "output_type": "stream",
     "text": [
      "<class 'pyslet.odata4.model.SingletonValue'>\n"
     ]
    },
    {
     "name": "stderr",
     "output_type": "stream",
     "text": [
      "WARNING:root:Fixing missing ID for entity http://services.odata.org/TripPinRESTierService/(S(jkpqxr4da4sxn3zoc0d1haqq))/Me/Friends('ronaldmundy')\n",
      "WARNING:root:Fixing missing ID for entity http://services.odata.org/TripPinRESTierService/(S(jkpqxr4da4sxn3zoc0d1haqq))/Me/Friends('javieralfred')\n",
      "WARNING:root:Fixing missing ID for entity http://services.odata.org/TripPinRESTierService/(S(jkpqxr4da4sxn3zoc0d1haqq))/Me/Friends('willieashmore')\n",
      "WARNING:root:Fixing missing ID for entity http://services.odata.org/TripPinRESTierService/(S(jkpqxr4da4sxn3zoc0d1haqq))/Me/Friends('vincentcalabrese')\n",
      "WARNING:root:Fixing missing ID for entity http://services.odata.org/TripPinRESTierService/(S(jkpqxr4da4sxn3zoc0d1haqq))/Me/Friends('clydeguess')\n",
      "WARNING:root:Fixing missing ID for entity http://services.odata.org/TripPinRESTierService/(S(jkpqxr4da4sxn3zoc0d1haqq))/Me/Friends('keithpinckney')\n",
      "WARNING:root:Fixing missing ID for entity http://services.odata.org/TripPinRESTierService/(S(jkpqxr4da4sxn3zoc0d1haqq))/Me/Friends('marshallgaray')\n",
      "WARNING:root:Fixing missing ID for entity http://services.odata.org/TripPinRESTierService/(S(jkpqxr4da4sxn3zoc0d1haqq))/Me/Friends('ryantheriault')\n",
      "WARNING:root:Fixing missing ID for entity http://services.odata.org/TripPinRESTierService/(S(jkpqxr4da4sxn3zoc0d1haqq))/Me/Friends('elainestewart')\n",
      "WARNING:root:Fixing missing ID for entity http://services.odata.org/TripPinRESTierService/(S(jkpqxr4da4sxn3zoc0d1haqq))/Me/Friends('salliesampson')\n",
      "WARNING:root:Fixing missing ID for entity http://services.odata.org/TripPinRESTierService/(S(jkpqxr4da4sxn3zoc0d1haqq))/Me/Friends('jonirosales')\n",
      "WARNING:root:Fixing missing ID for entity http://services.odata.org/TripPinRESTierService/(S(jkpqxr4da4sxn3zoc0d1haqq))/Me/Friends('georginabarlow')\n",
      "WARNING:root:Fixing missing ID for entity http://services.odata.org/TripPinRESTierService/(S(jkpqxr4da4sxn3zoc0d1haqq))/Me/Friends('angelhuffman')\n",
      "WARNING:root:Fixing missing ID for entity http://services.odata.org/TripPinRESTierService/(S(jkpqxr4da4sxn3zoc0d1haqq))/Me/Friends('laurelosborn')\n",
      "WARNING:root:Fixing missing ID for entity http://services.odata.org/TripPinRESTierService/(S(jkpqxr4da4sxn3zoc0d1haqq))/Me/Friends('sandyosborn')\n",
      "WARNING:root:Fixing missing ID for entity http://services.odata.org/TripPinRESTierService/(S(jkpqxr4da4sxn3zoc0d1haqq))/Me/Friends('ursulabright')\n",
      "WARNING:root:Fixing missing ID for entity http://services.odata.org/TripPinRESTierService/(S(jkpqxr4da4sxn3zoc0d1haqq))/Me/Friends('genevievereeves')\n",
      "WARNING:root:Fixing missing ID for entity http://services.odata.org/TripPinRESTierService/(S(jkpqxr4da4sxn3zoc0d1haqq))/Me/Friends('kristakemp')\n"
     ]
    },
    {
     "name": "stdout",
     "output_type": "stream",
     "text": [
      "aprilcline\n"
     ]
    }
   ],
   "source": [
    "whoami = svc.open('Me')\n",
    "print(type(whoami))\n",
    "whoami.expand('Friends')\n",
    "me = whoami()\n",
    "print(me['UserName'])"
   ]
  },
  {
   "cell_type": "code",
   "execution_count": 25,
   "metadata": {},
   "outputs": [
    {
     "name": "stderr",
     "output_type": "stream",
     "text": [
      "INFO:root:Sending request to b'services.odata.org'\n",
      "INFO:root:b\"GET /TripPinRESTierService/(S(jkpqxr4da4sxn3zoc0d1haqq))/Me/Friends?%24filter=Friends%2Fany(f%3Af%2FFirstName%20eq%20'Scott') HTTP/1.1\"\n",
      "INFO:root:Finished Response, status 200\n",
      "WARNING:root:Fixing missing ID for entity http://services.odata.org/TripPinRESTierService/(S(jkpqxr4da4sxn3zoc0d1haqq))/Me/Friends('russellwhyte')\n",
      "WARNING:root:Fixing missing ID for entity http://services.odata.org/TripPinRESTierService/(S(jkpqxr4da4sxn3zoc0d1haqq))/Me/Friends('ronaldmundy')\n"
     ]
    },
    {
     "data": {
      "text/plain": [
       "['russellwhyte', 'ronaldmundy']"
      ]
     },
     "execution_count": 25,
     "metadata": {},
     "output_type": "execute_result"
    }
   ],
   "source": [
    "fof = me['Friends']\n",
    "fof.set_filter(\"Friends/any(f:f/FirstName eq 'Scott')\")\n",
    "[str(f['UserName']) for f in fof]"
   ]
  },
  {
   "cell_type": "code",
   "execution_count": 26,
   "metadata": {},
   "outputs": [
    {
     "name": "stderr",
     "output_type": "stream",
     "text": [
      "INFO:root:Sending request to b'services.odata.org'\n",
      "INFO:root:b\"GET /TripPinRESTierService/(S(jkpqxr4da4sxn3zoc0d1haqq))/People('russellwhyte')?%24expand=Trips HTTP/1.1\"\n",
      "INFO:root:Finished Response, status 200\n",
      "WARNING:root:Fixing missing ID for entity http://services.odata.org/TripPinRESTierService/(S(jkpqxr4da4sxn3zoc0d1haqq))/People(null)/Trips(0)\n",
      "WARNING:root:Fixing missing ID for entity http://services.odata.org/TripPinRESTierService/(S(jkpqxr4da4sxn3zoc0d1haqq))/People(null)/Trips(1)\n",
      "WARNING:root:Fixing missing ID for entity http://services.odata.org/TripPinRESTierService/(S(jkpqxr4da4sxn3zoc0d1haqq))/People(null)/Trips(2)\n"
     ]
    },
    {
     "data": {
      "text/plain": [
       "3"
      ]
     },
     "execution_count": 26,
     "metadata": {},
     "output_type": "execute_result"
    }
   ],
   "source": [
    "people.expand('Trips')\n",
    "russellwhyte = people['russellwhyte']\n",
    "len(russellwhyte['Trips'])"
   ]
  },
  {
   "cell_type": "markdown",
   "metadata": {},
   "source": [
    "You can control a filter or page option on expansion using an explicit xpath..."
   ]
  },
  {
   "cell_type": "code",
   "execution_count": 27,
   "metadata": {},
   "outputs": [
    {
     "name": "stderr",
     "output_type": "stream",
     "text": [
      "INFO:root:Sending request to b'services.odata.org'\n",
      "INFO:root:b\"GET /TripPinRESTierService/(S(jkpqxr4da4sxn3zoc0d1haqq))/People('russellwhyte')?%24expand=Trips(%24top%3D1) HTTP/1.1\"\n",
      "INFO:root:Finished Response, status 200\n",
      "WARNING:root:Fixing missing ID for entity http://services.odata.org/TripPinRESTierService/(S(jkpqxr4da4sxn3zoc0d1haqq))/People(null)/Trips(0)\n"
     ]
    },
    {
     "data": {
      "text/plain": [
       "1"
      ]
     },
     "execution_count": 27,
     "metadata": {},
     "output_type": "execute_result"
    }
   ],
   "source": [
    "people.set_page(top=1, xpath=\"Trips\")\n",
    "russellwhyte = people['russellwhyte']\n",
    "len(russellwhyte['Trips'])"
   ]
  },
  {
   "cell_type": "markdown",
   "metadata": {},
   "source": [
    "For a selection, you just use the full path to the desired property.  The expansion is done for you automatically, in the example below we use a clean people object to demonstrate."
   ]
  },
  {
   "cell_type": "code",
   "execution_count": 28,
   "metadata": {},
   "outputs": [
    {
     "name": "stderr",
     "output_type": "stream",
     "text": [
      "INFO:root:Sending request to b'services.odata.org'\n",
      "INFO:root:b\"GET /TripPinRESTierService/(S(jkpqxr4da4sxn3zoc0d1haqq))/People('russellwhyte')?%24expand=Trips(%24select%3DTripId%2CName) HTTP/1.1\"\n",
      "INFO:root:Finished Response, status 200\n",
      "WARNING:root:Fixing missing ID for entity http://services.odata.org/TripPinRESTierService/(S(jkpqxr4da4sxn3zoc0d1haqq))/People(null)/Trips(0)\n",
      "WARNING:root:Fixing missing ID for entity http://services.odata.org/TripPinRESTierService/(S(jkpqxr4da4sxn3zoc0d1haqq))/People(null)/Trips(1)\n",
      "WARNING:root:Fixing missing ID for entity http://services.odata.org/TripPinRESTierService/(S(jkpqxr4da4sxn3zoc0d1haqq))/People(null)/Trips(2)\n"
     ]
    },
    {
     "data": {
      "text/plain": [
       "['TripId', 'Name']"
      ]
     },
     "execution_count": 28,
     "metadata": {},
     "output_type": "execute_result"
    }
   ],
   "source": [
    "people = svc.open('People')\n",
    "people.select(\"Trips/TripId\")\n",
    "people.select(\"Trips/Name\")\n",
    "russellwhyte = people['russellwhyte']\n",
    "list(russellwhyte['Trips'][0].keys())"
   ]
  },
  {
   "cell_type": "code",
   "execution_count": 29,
   "metadata": {},
   "outputs": [
    {
     "name": "stderr",
     "output_type": "stream",
     "text": [
      "INFO:root:Sending request to b'services.odata.org'\n",
      "INFO:root:b\"GET /TripPinRESTierService/(S(jkpqxr4da4sxn3zoc0d1haqq))/People('russellwhyte')?%24expand=Trips(%24select%3DTripId%2CName%3B%24filter%3DName%20eq%20'Trip%20in%20US') HTTP/1.1\"\n",
      "INFO:root:Finished Response, status 200\n",
      "WARNING:root:Fixing missing ID for entity http://services.odata.org/TripPinRESTierService/(S(jkpqxr4da4sxn3zoc0d1haqq))/People(null)/Trips(0)\n"
     ]
    },
    {
     "data": {
      "text/plain": [
       "['Trip in US']"
      ]
     },
     "execution_count": 29,
     "metadata": {},
     "output_type": "execute_result"
    }
   ],
   "source": [
    "people.set_filter(\"Name eq 'Trip in US'\", xpath=\"Trips\")\n",
    "russellwhyte = people['russellwhyte']\n",
    "[str(t['Name']) for t in russellwhyte['Trips']]"
   ]
  },
  {
   "cell_type": "markdown",
   "metadata": {},
   "source": [
    "Creating entities is a multi-step process.  You create an entity object (using *new_item*) which is a transient value not yet bound to the data service.  It is also 'null' which means there are no properties!  Make the entity non-null by setting defaults, then set the values of the properties as desired and finally insert the new entity into the entity set."
   ]
  },
  {
   "cell_type": "code",
   "execution_count": 30,
   "metadata": {},
   "outputs": [
    {
     "name": "stderr",
     "output_type": "stream",
     "text": [
      "INFO:root:Sending request to b'services.odata.org'\n",
      "INFO:root:b\"GET /TripPinRESTierService/(S(jkpqxr4da4sxn3zoc0d1haqq))/People('lewisblack') HTTP/1.1\"\n",
      "INFO:root:Finished Response, status 404\n"
     ]
    },
    {
     "name": "stdout",
     "output_type": "stream",
     "text": [
      "<class 'KeyError'>\n"
     ]
    }
   ],
   "source": [
    "%%handle\n",
    "people.collapse(\"Trips\")\n",
    "people['lewisblack']"
   ]
  },
  {
   "cell_type": "code",
   "execution_count": 31,
   "metadata": {},
   "outputs": [
    {
     "name": "stdout",
     "output_type": "stream",
     "text": [
      "True\n",
      "[]\n",
      "False\n",
      "False\n"
     ]
    },
    {
     "data": {
      "text/plain": [
       "'None'"
      ]
     },
     "execution_count": 31,
     "metadata": {},
     "output_type": "execute_result"
    }
   ],
   "source": [
    "lewisblack = people.new_item()\n",
    "print(lewisblack.is_null())\n",
    "print(list(lewisblack.keys()))\n",
    "lewisblack.set_defaults()\n",
    "print(lewisblack.is_null())\n",
    "print(lewisblack.type_def['FirstName'].nullable)\n",
    "repr(lewisblack['FirstName'].get_value())"
   ]
  },
  {
   "cell_type": "markdown",
   "metadata": {},
   "source": [
    "set_defaults only marks fields dirty if there is a default and the property has been updated as a result, otherwise it leaves the value *unchanged*."
   ]
  },
  {
   "cell_type": "code",
   "execution_count": 32,
   "metadata": {},
   "outputs": [
    {
     "name": "stdout",
     "output_type": "stream",
     "text": [
      "False\n",
      "Lewis\n",
      "False\n"
     ]
    }
   ],
   "source": [
    "lewisblack['FirstName'].set_value(\"Lewis\")\n",
    "lewisblack['FirstName'].clean()\n",
    "print(lewisblack['FirstName'].dirty)\n",
    "lewisblack.set_defaults()\n",
    "print(lewisblack['FirstName'])\n",
    "print(lewisblack['FirstName'].dirty)"
   ]
  },
  {
   "cell_type": "markdown",
   "metadata": {},
   "source": [
    "By chance the JSON dictionary format of the example is valid python so we can set all the properties in one go..."
   ]
  },
  {
   "cell_type": "code",
   "execution_count": 33,
   "metadata": {},
   "outputs": [
    {
     "data": {
      "text/plain": [
       "'Boise'"
      ]
     },
     "execution_count": 33,
     "metadata": {},
     "output_type": "execute_result"
    }
   ],
   "source": [
    "lewisblack.set_value({\n",
    "    \"UserName\":\"lewisblack\",\n",
    "    \"FirstName\":\"Lewis\",\n",
    "    \"LastName\":\"Black\",\n",
    "    \"Emails\":[\n",
    "        \"lewisblack@example.com\"\n",
    "    ],\n",
    "    \"AddressInfo\": [\n",
    "    {\n",
    "      \"Address\": \"187 Suffolk Ln.\",\n",
    "      \"City\": {\n",
    "        \"Name\": \"Boise\",\n",
    "        \"CountryRegion\": \"United States\",\n",
    "        \"Region\": \"ID\"\n",
    "      }\n",
    "    }\n",
    "    ]\n",
    "})\n",
    "lewisblack['AddressInfo'][0]['City']['Name'].get_value()"
   ]
  },
  {
   "cell_type": "code",
   "execution_count": 34,
   "metadata": {},
   "outputs": [
    {
     "name": "stderr",
     "output_type": "stream",
     "text": [
      "INFO:root:Sending request to b'services.odata.org'\n",
      "INFO:root:b'POST /TripPinRESTierService/(S(jkpqxr4da4sxn3zoc0d1haqq))/People HTTP/1.1'\n",
      "INFO:root:Finished Response, status 400\n"
     ]
    },
    {
     "name": "stdout",
     "output_type": "stream",
     "text": [
      "Failed to insert entity\n"
     ]
    }
   ],
   "source": [
    "%%handle\n",
    "people.insert(lewisblack)"
   ]
  },
  {
   "cell_type": "markdown",
   "metadata": {},
   "source": [
    "What went wrong?  The trouble is that there are properties in the People entity that are non-nullable but that don't have defaults set so we *must* provide values for those fields.  Gender is an example."
   ]
  },
  {
   "cell_type": "code",
   "execution_count": 35,
   "metadata": {},
   "outputs": [
    {
     "name": "stdout",
     "output_type": "stream",
     "text": [
      "True\n",
      "False\n"
     ]
    }
   ],
   "source": [
    "print(lewisblack['Gender'].is_null())\n",
    "print(lewisblack.type_def['Gender'].nullable)"
   ]
  },
  {
   "cell_type": "markdown",
   "metadata": {},
   "source": [
    "But in the example, Gender is not set so there must be some implicit default or computed value.  The way around the problem is to send only those properties that we've changed.  According to the specification it is OK to leave out properties if they can be computed by the service or are tied by referential constraints.  Also, services *may* add new nullable properties from time-to-time without breaking old clients so it's clearly OK to leave nullable values out.  Ideally, non-nullable values like Gender would be marked as being Computed so we would know it is OK to leave them out but this annotation is not used by TripPin.  The omit_clean option on insert allows us to override the default behaviour, effectively treating all clean values as either nullable, constrained or computable."
   ]
  },
  {
   "cell_type": "code",
   "execution_count": 36,
   "metadata": {},
   "outputs": [
    {
     "name": "stderr",
     "output_type": "stream",
     "text": [
      "INFO:root:Sending request to b'services.odata.org'\n",
      "INFO:root:b'POST /TripPinRESTierService/(S(jkpqxr4da4sxn3zoc0d1haqq))/People HTTP/1.1'\n"
     ]
    },
    {
     "name": "stdout",
     "output_type": "stream",
     "text": [
      "True\n",
      "False\n"
     ]
    },
    {
     "name": "stderr",
     "output_type": "stream",
     "text": [
      "INFO:root:Finished Response, status 201\n"
     ]
    }
   ],
   "source": [
    "lewisblack = people.new_item()\n",
    "lewisblack.set_defaults()\n",
    "lewisblack.set_value({\n",
    "    \"UserName\":\"lewisblack\",\n",
    "    \"FirstName\":\"Lewis\",\n",
    "    \"LastName\":\"Black\",\n",
    "    \"Emails\":[\n",
    "        \"lewisblack@example.com\"\n",
    "    ],\n",
    "    \"AddressInfo\": [\n",
    "    {\n",
    "      \"Address\": \"187 Suffolk Ln.\",\n",
    "      \"City\": {\n",
    "        \"Name\": \"Boise\",\n",
    "        \"CountryRegion\": \"United States\",\n",
    "        \"Region\": \"ID\"\n",
    "      }\n",
    "    }\n",
    "    ]\n",
    "})\n",
    "print(lewisblack['FirstName'].dirty)\n",
    "print(lewisblack['Gender'].dirty)\n",
    "people.insert(lewisblack, omit_clean=True)"
   ]
  },
  {
   "cell_type": "code",
   "execution_count": 37,
   "metadata": {},
   "outputs": [
    {
     "name": "stderr",
     "output_type": "stream",
     "text": [
      "INFO:root:Sending request to b'services.odata.org'\n",
      "INFO:root:b\"GET /TripPinRESTierService/(S(jkpqxr4da4sxn3zoc0d1haqq))/People('lewisblack') HTTP/1.1\"\n",
      "INFO:root:Finished Response, status 200\n"
     ]
    },
    {
     "data": {
      "text/plain": [
       "'Boise'"
      ]
     },
     "execution_count": 37,
     "metadata": {},
     "output_type": "execute_result"
    }
   ],
   "source": [
    "people.clear_cache()\n",
    "lewisback = people['lewisblack']\n",
    "lewisblack['AddressInfo'][0]['City']['Name'].get_value()"
   ]
  },
  {
   "cell_type": "markdown",
   "metadata": {},
   "source": [
    "Out of curiosity, what was our computed Gender?"
   ]
  },
  {
   "cell_type": "code",
   "execution_count": 38,
   "metadata": {},
   "outputs": [
    {
     "data": {
      "text/plain": [
       "'Male'"
      ]
     },
     "execution_count": 38,
     "metadata": {},
     "output_type": "execute_result"
    }
   ],
   "source": [
    "lewisblack['Gender'].get_value()"
   ]
  },
  {
   "cell_type": "markdown",
   "metadata": {},
   "source": [
    "Updating an entity works in a similar way except that PATCH semantics mean that only modified fields are sent to the data service anyway.  Changes are only made when you *commit* them, after which they are marked clean again."
   ]
  },
  {
   "cell_type": "code",
   "execution_count": 39,
   "metadata": {},
   "outputs": [
    {
     "name": "stderr",
     "output_type": "stream",
     "text": [
      "INFO:root:Sending request to b'services.odata.org'\n",
      "INFO:root:b\"GET /TripPinRESTierService/(S(jkpqxr4da4sxn3zoc0d1haqq))/People('russellwhyte') HTTP/1.1\"\n",
      "INFO:root:Finished Response, status 200\n",
      "INFO:root:Sending request to b'services.odata.org'\n",
      "INFO:root:b\"PATCH /TripPinRESTierService/(S(jkpqxr4da4sxn3zoc0d1haqq))/People('russellwhyte') HTTP/1.1\"\n",
      "INFO:root:Finished Response, status 204\n"
     ]
    },
    {
     "data": {
      "text/plain": [
       "False"
      ]
     },
     "execution_count": 39,
     "metadata": {},
     "output_type": "execute_result"
    }
   ],
   "source": [
    "russellwhyte = people['russellwhyte']\n",
    "russellwhyte['FirstName'].set_value(\"Mirs\")\n",
    "russellwhyte['LastName'].set_value(\"King\")\n",
    "russellwhyte.commit()\n",
    "russellwhyte['FirstName'].dirty"
   ]
  },
  {
   "cell_type": "code",
   "execution_count": 40,
   "metadata": {},
   "outputs": [
    {
     "name": "stderr",
     "output_type": "stream",
     "text": [
      "INFO:root:Sending request to b'services.odata.org'\n",
      "INFO:root:b\"GET /TripPinRESTierService/(S(jkpqxr4da4sxn3zoc0d1haqq))/People('russellwhyte') HTTP/1.1\"\n",
      "INFO:root:Finished Response, status 200\n"
     ]
    },
    {
     "name": "stdout",
     "output_type": "stream",
     "text": [
      "Mirs King\n"
     ]
    }
   ],
   "source": [
    "people.clear_cache()\n",
    "russellwhyte = people['russellwhyte']\n",
    "print(\"%s %s\" % (russellwhyte['FirstName'], russellwhyte['LastName']))"
   ]
  },
  {
   "cell_type": "markdown",
   "metadata": {},
   "source": [
    "Finally, when you want to remove an entity you just delete it from the dictionary in the normal way."
   ]
  },
  {
   "cell_type": "code",
   "execution_count": 41,
   "metadata": {},
   "outputs": [
    {
     "name": "stderr",
     "output_type": "stream",
     "text": [
      "INFO:root:Sending request to b'services.odata.org'\n",
      "INFO:root:b\"DELETE /TripPinRESTierService/(S(jkpqxr4da4sxn3zoc0d1haqq))/People('russellwhyte') HTTP/1.1\"\n",
      "INFO:root:Finished Response, status 204\n",
      "INFO:root:Sending request to b'services.odata.org'\n",
      "INFO:root:b'GET /TripPinRESTierService/(S(jkpqxr4da4sxn3zoc0d1haqq))/People/%24count HTTP/1.1'\n",
      "INFO:root:Finished Response, status 200\n",
      "INFO:root:Sending request to b'services.odata.org'\n",
      "INFO:root:b\"GET /TripPinRESTierService/(S(jkpqxr4da4sxn3zoc0d1haqq))/People('russellwhyte') HTTP/1.1\"\n",
      "INFO:root:Finished Response, status 404\n"
     ]
    },
    {
     "name": "stdout",
     "output_type": "stream",
     "text": [
      "20\n",
      "Russell Whyte has been terminated\n"
     ]
    }
   ],
   "source": [
    "del people['russellwhyte']\n",
    "print(len(people))\n",
    "print(people.get('russellwhyte', \"Russell Whyte has been terminated\"))"
   ]
  },
  {
   "cell_type": "markdown",
   "metadata": {},
   "source": [
    "Unbound functions can be opened just like EntitySets and Singletons"
   ]
  },
  {
   "cell_type": "code",
   "execution_count": 42,
   "metadata": {},
   "outputs": [
    {
     "name": "stdout",
     "output_type": "stream",
     "text": [
      "<class 'pyslet.odata4.model.CallableValue'>\n",
      "<class 'pyslet.odata4.model.Function'>\n"
     ]
    },
    {
     "data": {
      "text/plain": [
       "'Microsoft.OData.Service.Sample.TrippinInMemory.Models.GetNearestAirport'"
      ]
     },
     "execution_count": 42,
     "metadata": {},
     "output_type": "execute_result"
    }
   ],
   "source": [
    "func = svc.open('GetNearestAirport')\n",
    "print(type(func))\n",
    "print(type(func.type_def))\n",
    "func.type_def.qname"
   ]
  },
  {
   "cell_type": "markdown",
   "metadata": {},
   "source": [
    "The CallableValue object behaves like a dictionary of parameter values, you set them just like you would set property values of Entities.  You *call* a function simply by calling it."
   ]
  },
  {
   "cell_type": "code",
   "execution_count": 43,
   "metadata": {},
   "outputs": [
    {
     "name": "stderr",
     "output_type": "stream",
     "text": [
      "INFO:root:Sending request to b'services.odata.org'\n",
      "INFO:root:b'GET /TripPinRESTierService/(S(jkpqxr4da4sxn3zoc0d1haqq))/GetNearestAirport(lat%3D33.0%2Clon%3D-11.0) HTTP/1.1'\n",
      "INFO:root:Finished Response, status 200\n"
     ]
    },
    {
     "data": {
      "text/plain": [
       "'John F. Kennedy International Airport'"
      ]
     },
     "execution_count": 43,
     "metadata": {},
     "output_type": "execute_result"
    }
   ],
   "source": [
    "func['lat'].set_value(33)\n",
    "func['lon'].set_value(-11)\n",
    "airport = func()\n",
    "str(airport['Name'])"
   ]
  },
  {
   "cell_type": "markdown",
   "metadata": {},
   "source": [
    "There is almost no difference between Functions and Actions in this API.  Bear in mind that an Action *may* return None indicating that there is no return value, whereas a Function *must* have a return value (even if it is null).  Let's reset the data source now so we can bring back russellwhyte!"
   ]
  },
  {
   "cell_type": "code",
   "execution_count": 26,
   "metadata": {},
   "outputs": [
    {
     "name": "stderr",
     "output_type": "stream",
     "text": [
      "INFO:root:Sending request to b'services.odata.org'\n",
      "INFO:root:b'POST /TripPinRESTierService/(S(1rin50cgxkoykgrf4kpyswf3))/ResetDataSource HTTP/1.1'\n",
      "WARNING:root:socket.recv raised [Errno 54] Connection reset by peer\n",
      "INFO:root:Finished Response, status 204\n"
     ]
    },
    {
     "data": {
      "text/plain": [
       "'None'"
      ]
     },
     "execution_count": 26,
     "metadata": {},
     "output_type": "execute_result"
    }
   ],
   "source": [
    "f = svc.open('ResetDataSource')\n",
    "repr(f())"
   ]
  },
  {
   "cell_type": "markdown",
   "metadata": {},
   "source": [
    "Bound functions are opened from the value they are bound to using the get_callable method which takes the qualified name of the desired function as an argument.  Unfortunately we have to revist the problem we raised earlier with Trips being a CollectionValue instead of the more powerful EntitySetValue.  To access the Trip with TripId 0 we'd like to look up the key with trips[0] but that only does index lookup so returns the first Trip in the collection (which could have any TripId).  CollectionValue has a set_key_filter method to get around the problem, it filters the collection by a specific key value so that when we get the first entity in the list it is sure to be the entity we wanted.  This avoids iterating the whole collection scanning for ['TripId'].get_value() == 0."
   ]
  },
  {
   "cell_type": "code",
   "execution_count": 49,
   "metadata": {},
   "outputs": [
    {
     "name": "stderr",
     "output_type": "stream",
     "text": [
      "INFO:root:Sending request to b'services.odata.org'\n",
      "INFO:root:b\"GET /TripPinRESTierService/(S(jkpqxr4da4sxn3zoc0d1haqq))/People('russellwhyte')?%24expand=Trips HTTP/1.1\"\n",
      "INFO:root:Finished Response, status 200\n",
      "WARNING:root:Fixing missing ID for entity http://services.odata.org/TripPinRESTierService/(S(jkpqxr4da4sxn3zoc0d1haqq))/People(null)/Trips(0)\n",
      "WARNING:root:Fixing missing ID for entity http://services.odata.org/TripPinRESTierService/(S(jkpqxr4da4sxn3zoc0d1haqq))/People(null)/Trips(1)\n",
      "WARNING:root:Fixing missing ID for entity http://services.odata.org/TripPinRESTierService/(S(jkpqxr4da4sxn3zoc0d1haqq))/People(null)/Trips(2)\n",
      "INFO:root:Sending request to b'services.odata.org'\n",
      "INFO:root:b\"GET /TripPinRESTierService/(S(jkpqxr4da4sxn3zoc0d1haqq))/People('russellwhyte')/Trips?%24filter=TripId%20eq%200 HTTP/1.1\"\n",
      "INFO:root:Finished Response, status 200\n",
      "WARNING:root:Fixing missing ID for entity http://services.odata.org/TripPinRESTierService/(S(jkpqxr4da4sxn3zoc0d1haqq))/People('russellwhyte')/Trips(0)\n",
      "INFO:root:Sending request to b'services.odata.org'\n",
      "INFO:root:b\"GET /TripPinRESTierService/(S(jkpqxr4da4sxn3zoc0d1haqq))/People('russellwhyte')/Trips(0)/Microsoft.OData.Service.Sample.TrippinInMemory.Models.GetInvolvedPeople() HTTP/1.1\"\n",
      "INFO:root:Finished Response, status 200\n"
     ]
    },
    {
     "data": {
      "text/plain": [
       "['russellwhyte', 'scottketchum']"
      ]
     },
     "execution_count": 49,
     "metadata": {},
     "output_type": "execute_result"
    }
   ],
   "source": [
    "people = svc.open('People')\n",
    "people.expand('Trips')\n",
    "russellwhyte = people['russellwhyte']\n",
    "trips = russellwhyte['Trips']\n",
    "trips.set_key_filter(0)\n",
    "trip = trips[0]\n",
    "f = trip.get_callable(\"Microsoft.OData.Service.Sample.TrippinInMemory.Models.GetInvolvedPeople\")\n",
    "ipeople = f()\n",
    "[str(ip['UserName']) for ip in ipeople]"
   ]
  },
  {
   "cell_type": "code",
   "execution_count": 50,
   "metadata": {},
   "outputs": [
    {
     "name": "stderr",
     "output_type": "stream",
     "text": [
      "INFO:root:Sending request to b'services.odata.org'\n",
      "INFO:root:b\"POST /TripPinRESTierService/(S(jkpqxr4da4sxn3zoc0d1haqq))/People('russellwhyte')/Microsoft.OData.Service.Sample.TrippinInMemory.Models.ShareTrip HTTP/1.1\"\n",
      "INFO:root:Finished Response, status 204\n"
     ]
    },
    {
     "data": {
      "text/plain": [
       "'None'"
      ]
     },
     "execution_count": 50,
     "metadata": {},
     "output_type": "execute_result"
    }
   ],
   "source": [
    "action = russellwhyte.get_callable(\"Microsoft.OData.Service.Sample.TrippinInMemory.Models.ShareTrip\")\n",
    "action['userName'].set_value('scottketchum')\n",
    "action['tripId'].set_value(0)\n",
    "repr(action())"
   ]
  },
  {
   "cell_type": "markdown",
   "metadata": {},
   "source": [
    "ETags are returned in HTTP headers when requesting individual entities but also as annotations in the payload allowing multiple entities with ETags to be retrieved simultaneously."
   ]
  },
  {
   "cell_type": "code",
   "execution_count": 4,
   "metadata": {},
   "outputs": [
    {
     "name": "stderr",
     "output_type": "stream",
     "text": [
      "INFO:root:Sending request to b'services.odata.org'\n",
      "INFO:root:b'GET /TripPinRESTierService/(S(g4pnn5efcxp35hzannam0w5y))/Airlines HTTP/1.1'\n",
      "INFO:root:Finished Response, status 200\n"
     ]
    },
    {
     "data": {
      "text/plain": [
       "['W/\"J0FtZXJpY2FuIEFpcmxpbmVzJw==\"',\n",
       " 'W/\"J1NoYW5naGFpIEFpcmxpbmUn\"',\n",
       " 'W/\"J0NoaW5hIEVhc3Rlcm4gQWlybGluZXMn\"']"
      ]
     },
     "execution_count": 4,
     "metadata": {},
     "output_type": "execute_result"
    }
   ],
   "source": [
    "airlines = svc.open('Airlines')\n",
    "[str(a.get_annotation('@odata.etag')) for a in airlines.values()]"
   ]
  },
  {
   "cell_type": "code",
   "execution_count": 5,
   "metadata": {},
   "outputs": [
    {
     "name": "stderr",
     "output_type": "stream",
     "text": [
      "INFO:root:Sending request to b'services.odata.org'\n",
      "INFO:root:b\"GET /TripPinRESTierService/(S(g4pnn5efcxp35hzannam0w5y))/Airlines('AA') HTTP/1.1\"\n",
      "INFO:root:Finished Response, status 200\n"
     ]
    },
    {
     "data": {
      "text/plain": [
       "'W/\"J0FtZXJpY2FuIEFpcmxpbmVzJw==\"'"
      ]
     },
     "execution_count": 5,
     "metadata": {},
     "output_type": "execute_result"
    }
   ],
   "source": [
    "airlines.clear_cache()\n",
    "american = airlines['AA']\n",
    "etag = american.get_annotation('@odata.etag').get_value()\n",
    "etag"
   ]
  },
  {
   "cell_type": "markdown",
   "metadata": {},
   "source": [
    "When we update an entity with an ETag we use If-Match.  Our logging isn't extensive enough to show the headers but our change will trigger a change in the value of the ETag on the server so the PATCH call automatically removes the existing value from the local copy in our cache.  The get_annotation method returns None if there is no annotation with that name associated with the value."
   ]
  },
  {
   "cell_type": "code",
   "execution_count": 6,
   "metadata": {},
   "outputs": [
    {
     "name": "stderr",
     "output_type": "stream",
     "text": [
      "INFO:root:Sending request to b'services.odata.org'\n",
      "INFO:root:b\"PATCH /TripPinRESTierService/(S(g4pnn5efcxp35hzannam0w5y))/Airlines('AA') HTTP/1.1\"\n",
      "INFO:root:Finished Response, status 204\n"
     ]
    },
    {
     "data": {
      "text/plain": [
       "'None'"
      ]
     },
     "execution_count": 6,
     "metadata": {},
     "output_type": "execute_result"
    }
   ],
   "source": [
    "american['Name'].set_value('Other Airlines')\n",
    "american.commit()\n",
    "repr(american.get_annotation('@odata.etag'))"
   ]
  },
  {
   "cell_type": "markdown",
   "metadata": {},
   "source": [
    "Just to prove that we really did use the ETag, we can try making another change..."
   ]
  },
  {
   "cell_type": "code",
   "execution_count": 7,
   "metadata": {},
   "outputs": [
    {
     "name": "stderr",
     "output_type": "stream",
     "text": [
      "INFO:root:Sending request to b'services.odata.org'\n",
      "INFO:root:b\"PATCH /TripPinRESTierService/(S(g4pnn5efcxp35hzannam0w5y))/Airlines('AA') HTTP/1.1\"\n",
      "INFO:root:Finished Response, status 428\n"
     ]
    },
    {
     "ename": "OptimisticConcurrencyError",
     "evalue": "",
     "output_type": "error",
     "traceback": [
      "\u001b[0;31m---------------------------------------------------------------------------\u001b[0m",
      "\u001b[0;31mOptimisticConcurrencyError\u001b[0m                Traceback (most recent call last)",
      "\u001b[0;32m<ipython-input-7-4e7ff8516fa8>\u001b[0m in \u001b[0;36m<module>\u001b[0;34m()\u001b[0m\n\u001b[1;32m      1\u001b[0m \u001b[0mamerican\u001b[0m\u001b[0;34m[\u001b[0m\u001b[0;34m'Name'\u001b[0m\u001b[0;34m]\u001b[0m\u001b[0;34m.\u001b[0m\u001b[0mset_value\u001b[0m\u001b[0;34m(\u001b[0m\u001b[0;34m'Yet Another Airline'\u001b[0m\u001b[0;34m)\u001b[0m\u001b[0;34m\u001b[0m\u001b[0m\n\u001b[0;32m----> 2\u001b[0;31m \u001b[0mamerican\u001b[0m\u001b[0;34m.\u001b[0m\u001b[0mcommit\u001b[0m\u001b[0;34m(\u001b[0m\u001b[0;34m)\u001b[0m\u001b[0;34m\u001b[0m\u001b[0m\n\u001b[0m",
      "\u001b[0;32m~/dev/git/pyslet/tutorials/odata4/pyslet/odata4/model.py\u001b[0m in \u001b[0;36mcommit\u001b[0;34m(self)\u001b[0m\n\u001b[1;32m   2706\u001b[0m             \u001b[0mrequest\u001b[0m\u001b[0;34m.\u001b[0m\u001b[0mexecute_request\u001b[0m\u001b[0;34m(\u001b[0m\u001b[0;34m)\u001b[0m\u001b[0;34m\u001b[0m\u001b[0m\n\u001b[1;32m   2707\u001b[0m             \u001b[0;32mif\u001b[0m \u001b[0misinstance\u001b[0m\u001b[0;34m(\u001b[0m\u001b[0mrequest\u001b[0m\u001b[0;34m.\u001b[0m\u001b[0mresult\u001b[0m\u001b[0;34m,\u001b[0m \u001b[0mException\u001b[0m\u001b[0;34m)\u001b[0m\u001b[0;34m:\u001b[0m\u001b[0;34m\u001b[0m\u001b[0m\n\u001b[0;32m-> 2708\u001b[0;31m                 \u001b[0;32mraise\u001b[0m \u001b[0mrequest\u001b[0m\u001b[0;34m.\u001b[0m\u001b[0mresult\u001b[0m\u001b[0;34m\u001b[0m\u001b[0m\n\u001b[0m\u001b[1;32m   2709\u001b[0m         \u001b[0;32melse\u001b[0m\u001b[0;34m:\u001b[0m\u001b[0;34m\u001b[0m\u001b[0m\n\u001b[1;32m   2710\u001b[0m             \u001b[0mself\u001b[0m\u001b[0;34m.\u001b[0m\u001b[0mrclean\u001b[0m\u001b[0;34m(\u001b[0m\u001b[0;34m)\u001b[0m\u001b[0;34m\u001b[0m\u001b[0m\n",
      "\u001b[0;31mOptimisticConcurrencyError\u001b[0m: "
     ]
    }
   ],
   "source": [
    "american['Name'].set_value('Yet Another Airline')\n",
    "american.commit()"
   ]
  },
  {
   "cell_type": "markdown",
   "metadata": {},
   "source": [
    "We can discover the new ETag value by reloading the entity directly."
   ]
  },
  {
   "cell_type": "code",
   "execution_count": 8,
   "metadata": {},
   "outputs": [
    {
     "name": "stderr",
     "output_type": "stream",
     "text": [
      "INFO:root:Sending request to b'services.odata.org'\n",
      "INFO:root:b\"GET /TripPinRESTierService/(S(g4pnn5efcxp35hzannam0w5y))/Airlines('AA') HTTP/1.1\"\n",
      "INFO:root:Finished Response, status 200\n"
     ]
    },
    {
     "data": {
      "text/plain": [
       "('Other Airlines', 'W/\"J090aGVyIEFpcmxpbmVzJw==\"', False)"
      ]
     },
     "execution_count": 8,
     "metadata": {},
     "output_type": "execute_result"
    }
   ],
   "source": [
    "american.reload()\n",
    "new_etag = american.get_annotation('@odata.etag').get_value()\n",
    "american['Name'].get_value(), new_etag, new_etag == etag"
   ]
  },
  {
   "cell_type": "markdown",
   "metadata": {},
   "source": [
    "We need the ETag to delete the entity too"
   ]
  },
  {
   "cell_type": "code",
   "execution_count": 9,
   "metadata": {},
   "outputs": [
    {
     "name": "stderr",
     "output_type": "stream",
     "text": [
      "INFO:root:Sending request to b'services.odata.org'\n",
      "INFO:root:b\"DELETE /TripPinRESTierService/(S(g4pnn5efcxp35hzannam0w5y))/Airlines('FM') HTTP/1.1\"\n",
      "INFO:root:Finished Response, status 428\n"
     ]
    },
    {
     "ename": "OptimisticConcurrencyError",
     "evalue": "",
     "output_type": "error",
     "traceback": [
      "\u001b[0;31m---------------------------------------------------------------------------\u001b[0m",
      "\u001b[0;31mOptimisticConcurrencyError\u001b[0m                Traceback (most recent call last)",
      "\u001b[0;32m<ipython-input-9-44bb817c9421>\u001b[0m in \u001b[0;36m<module>\u001b[0;34m()\u001b[0m\n\u001b[0;32m----> 1\u001b[0;31m \u001b[0;32mdel\u001b[0m \u001b[0mairlines\u001b[0m\u001b[0;34m[\u001b[0m\u001b[0;34m'FM'\u001b[0m\u001b[0;34m]\u001b[0m\u001b[0;34m\u001b[0m\u001b[0m\n\u001b[0m",
      "\u001b[0;32m~/dev/git/pyslet/tutorials/odata4/pyslet/odata4/model.py\u001b[0m in \u001b[0;36m__delitem__\u001b[0;34m(self, key)\u001b[0m\n\u001b[1;32m   4225\u001b[0m                     \u001b[0;32mraise\u001b[0m \u001b[0mKeyError\u001b[0m\u001b[0;34m\u001b[0m\u001b[0m\n\u001b[1;32m   4226\u001b[0m             \u001b[0;32mif\u001b[0m \u001b[0misinstance\u001b[0m\u001b[0;34m(\u001b[0m\u001b[0mrequest\u001b[0m\u001b[0;34m.\u001b[0m\u001b[0mresult\u001b[0m\u001b[0;34m,\u001b[0m \u001b[0mException\u001b[0m\u001b[0;34m)\u001b[0m\u001b[0;34m:\u001b[0m\u001b[0;34m\u001b[0m\u001b[0m\n\u001b[0;32m-> 4227\u001b[0;31m                 \u001b[0;32mraise\u001b[0m \u001b[0mrequest\u001b[0m\u001b[0;34m.\u001b[0m\u001b[0mresult\u001b[0m\u001b[0;34m\u001b[0m\u001b[0m\n\u001b[0m\u001b[1;32m   4228\u001b[0m \u001b[0;34m\u001b[0m\u001b[0m\n\u001b[1;32m   4229\u001b[0m     \u001b[0;32mdef\u001b[0m \u001b[0m__iter__\u001b[0m\u001b[0;34m(\u001b[0m\u001b[0mself\u001b[0m\u001b[0;34m)\u001b[0m\u001b[0;34m:\u001b[0m\u001b[0;34m\u001b[0m\u001b[0m\n",
      "\u001b[0;31mOptimisticConcurrencyError\u001b[0m: "
     ]
    }
   ],
   "source": [
    "del airlines['FM']"
   ]
  },
  {
   "cell_type": "markdown",
   "metadata": {},
   "source": [
    "This requirement means that you can't just delete an entity from an entity set that requires use of ETags without first retrieving it.  The API could try and hide this detail from you by automatically retrieving the entity (or using the last ETag it saw) but that defeats the point of optimistic concurrency control.  The service owner is trying to tell you something!  To delete an entity that requires an ETag you must do it from the entity's value.  The delete method is *only* supported on values of Entity types and then only when they are bound to a service.  Once deleted, the entity's value becomes null."
   ]
  },
  {
   "cell_type": "code",
   "execution_count": 10,
   "metadata": {},
   "outputs": [
    {
     "name": "stderr",
     "output_type": "stream",
     "text": [
      "INFO:root:Sending request to b'services.odata.org'\n",
      "INFO:root:b\"DELETE /TripPinRESTierService/(S(g4pnn5efcxp35hzannam0w5y))/Airlines('AA') HTTP/1.1\"\n",
      "INFO:root:Finished Response, status 204\n"
     ]
    },
    {
     "data": {
      "text/plain": [
       "True"
      ]
     },
     "execution_count": 10,
     "metadata": {},
     "output_type": "execute_result"
    }
   ],
   "source": [
    "american.delete()\n",
    "american.is_null()"
   ]
  },
  {
   "cell_type": "markdown",
   "metadata": {},
   "source": [
    "When using the delete method, watch out for caching in the entity set used to retrieve the entity!  In the following example we force the cache to be populated by retrieving all the entities in the set and then we delete one of them.  The deleted airline is still visible in the cache after deletion but with a, possibly unexpected, null value."
   ]
  },
  {
   "cell_type": "code",
   "execution_count": 11,
   "metadata": {},
   "outputs": [
    {
     "name": "stderr",
     "output_type": "stream",
     "text": [
      "INFO:root:Sending request to b'services.odata.org'\n",
      "INFO:root:b'GET /TripPinRESTierService/(S(g4pnn5efcxp35hzannam0w5y))/Airlines/%24count HTTP/1.1'\n",
      "INFO:root:Finished Response, status 200\n",
      "INFO:root:Sending request to b'services.odata.org'\n",
      "INFO:root:b'GET /TripPinRESTierService/(S(g4pnn5efcxp35hzannam0w5y))/Airlines HTTP/1.1'\n",
      "INFO:root:Finished Response, status 200\n",
      "INFO:root:Sending request to b'services.odata.org'\n",
      "INFO:root:b\"DELETE /TripPinRESTierService/(S(g4pnn5efcxp35hzannam0w5y))/Airlines('FM') HTTP/1.1\"\n",
      "INFO:root:Finished Response, status 204\n"
     ]
    },
    {
     "name": "stdout",
     "output_type": "stream",
     "text": [
      "['FM', 'MU']\n"
     ]
    },
    {
     "data": {
      "text/plain": [
       "True"
      ]
     },
     "execution_count": 11,
     "metadata": {},
     "output_type": "execute_result"
    }
   ],
   "source": [
    "print(list(airlines.keys()))\n",
    "shanghai = airlines['FM']\n",
    "shanghai.delete()\n",
    "airlines['FM'].is_null()"
   ]
  },
  {
   "cell_type": "code",
   "execution_count": null,
   "metadata": {
    "collapsed": true
   },
   "outputs": [],
   "source": []
  }
 ],
 "metadata": {
  "kernelspec": {
   "display_name": "Python 3",
   "language": "python",
   "name": "python3"
  },
  "language_info": {
   "codemirror_mode": {
    "name": "ipython",
    "version": 3
   },
   "file_extension": ".py",
   "mimetype": "text/x-python",
   "name": "python",
   "nbconvert_exporter": "python",
   "pygments_lexer": "ipython3",
   "version": "3.5.3"
  }
 },
 "nbformat": 4,
 "nbformat_minor": 2
}
