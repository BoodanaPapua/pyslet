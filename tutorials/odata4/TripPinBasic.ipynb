{
 "cells": [
  {
   "cell_type": "markdown",
   "metadata": {},
   "source": [
    "This is a quick tutorial on using OData v4 with Pyslet.  It roughly follows the basic examples here: http://www.odata.org/odata-services/\n",
    "\n",
    "If you want to watch a video tutorial for this notebook there's one on YouTube here: http://www.youtube.com/watch?v=_HkKwK9ePcI"
   ]
  },
  {
   "cell_type": "code",
   "execution_count": 1,
   "metadata": {},
   "outputs": [],
   "source": [
    "import logging\n",
    "logging.basicConfig(level=logging.INFO)\n",
    "from pyslet.odata4.client import Client"
   ]
  },
  {
   "cell_type": "markdown",
   "metadata": {},
   "source": [
    "The following little trick enables to to catch and print errors that happen when running cells.  (Sometimes we generate errors deliberately to illustrate a point.)"
   ]
  },
  {
   "cell_type": "code",
   "execution_count": 2,
   "metadata": {
    "collapsed": true
   },
   "outputs": [],
   "source": [
    "from IPython.core.magic import register_cell_magic\n",
    "\n",
    "@register_cell_magic\n",
    "def handle(line, cell):\n",
    "    try:\n",
    "        exec(cell)\n",
    "    except Exception as e:\n",
    "        msg = str(e)\n",
    "        if msg:\n",
    "            print(msg)\n",
    "        else:\n",
    "            print(type(e))"
   ]
  },
  {
   "cell_type": "markdown",
   "metadata": {},
   "source": [
    "You can get the URL of the TripPin reference service from the OData website, it uses a redirect to a URL containing a session token enabling us to demonstrate data modification too, nice!  Pyslet also parses the metadata document when you create the Client object which it uses to enforce the correct typing and behaviours on data model objects."
   ]
  },
  {
   "cell_type": "code",
   "execution_count": 3,
   "metadata": {},
   "outputs": [
    {
     "name": "stderr",
     "output_type": "stream",
     "text": [
      "INFO:root:Sending request to b'services.odata.org'\n",
      "INFO:root:b'GET /TripPinRESTierService HTTP/1.1'\n",
      "INFO:root:Finished Response, status 302\n",
      "WARNING:root:Relative Location header: /TripPinRESTierService/(S(c3qyeyrj5dfvdttasunydd3y))/\n",
      "INFO:root:Resending request to: http://services.odata.org/TripPinRESTierService/(S(c3qyeyrj5dfvdttasunydd3y))/\n",
      "INFO:root:Sending request to b'services.odata.org'\n",
      "INFO:root:b'GET /TripPinRESTierService/(S(c3qyeyrj5dfvdttasunydd3y))/ HTTP/1.1'\n",
      "INFO:root:Finished Response, status 200\n",
      "INFO:root:Sending request to b'services.odata.org'\n",
      "INFO:root:b'GET /TripPinRESTierService/(S(c3qyeyrj5dfvdttasunydd3y))/$metadata HTTP/1.1'\n",
      "INFO:root:Finished Response, status 200\n",
      "INFO:root:Service metadata format: application/xml\n",
      "WARNING:root:Ignored Annotation with undeclared term: Org.OData.Core.V1.OptimisticConcurrency\n"
     ]
    }
   ],
   "source": [
    "svc = Client('http://services.odata.org/TripPinRESTierService')"
   ]
  },
  {
   "cell_type": "markdown",
   "metadata": {},
   "source": [
    "OData services expose an EntityContainer containing EntitySets (like SQL Tables) and Singletons bound to specific URLs in the service document.  You can open an EntitySet directly from the client object which is treated as a reference to the data service."
   ]
  },
  {
   "cell_type": "code",
   "execution_count": null,
   "metadata": {},
   "outputs": [],
   "source": [
    "people = svc.open('People')\n",
    "print(type(people))\n",
    "print(type(people.type_def))\n",
    "print(type(people.type_def.item_type))\n",
    "people.type_def.item_type.qname"
   ]
  },
  {
   "cell_type": "markdown",
   "metadata": {},
   "source": [
    "Pyslet's OData support is dictionary-like.  An EntitySet is a collection of Entities each of which has a key.  It behaves like a mapping from the entity key to the entity value.  When you iterate a dictionary you get the keys... '"
   ]
  },
  {
   "cell_type": "code",
   "execution_count": null,
   "metadata": {},
   "outputs": [],
   "source": [
    "ip = iter(people)\n",
    "print(next(ip))\n",
    "print(next(ip))\n",
    "list(ip)"
   ]
  },
  {
   "cell_type": "markdown",
   "metadata": {},
   "source": [
    "The EntitySetValue object caches information to minimise the number of requests it has to make to the data source.  When we access an entity by key we get the cached value, if available.  If we explicitly clear the cache we force the object to retrieve the data from the service again."
   ]
  },
  {
   "cell_type": "code",
   "execution_count": null,
   "metadata": {},
   "outputs": [],
   "source": [
    "russellwhyte = people['russellwhyte']\n",
    "print(id(russellwhyte))\n",
    "people.clear_cache()\n",
    "russellwhyte = people['russellwhyte']\n",
    "print(id(russellwhyte))"
   ]
  },
  {
   "cell_type": "code",
   "execution_count": null,
   "metadata": {},
   "outputs": [],
   "source": [
    "airports = svc.open('Airports')\n",
    "sfo = airports['KSFO']\n",
    "print(sfo)\n",
    "print(list(sfo.keys()))\n",
    "print(type(sfo['Name']))\n",
    "print(sfo['Name'].get_value())"
   ]
  },
  {
   "cell_type": "code",
   "execution_count": null,
   "metadata": {},
   "outputs": [],
   "source": [
    "sfo['Name'].set_value('Mills Field Municipal Airport')\n",
    "print(sfo['Name'].dirty)\n",
    "print(sfo['Name'].get_value())\n",
    "sfo['Name'].reload()\n",
    "print(sfo['Name'].dirty)\n",
    "print(sfo['Name'].get_value())"
   ]
  },
  {
   "cell_type": "code",
   "execution_count": null,
   "metadata": {},
   "outputs": [],
   "source": [
    "print(type(sfo['Location']['Address']))\n",
    "sfo['Location']['Address'].reload()\n",
    "print(sfo['Location'])\n",
    "sfo['Location'].reload()"
   ]
  },
  {
   "cell_type": "code",
   "execution_count": null,
   "metadata": {},
   "outputs": [],
   "source": [
    "print(russellwhyte)\n",
    "print(type(russellwhyte['AddressInfo']))\n",
    "print(len(russellwhyte['AddressInfo']))\n",
    "print(russellwhyte['AddressInfo'][0])\n",
    "russellwhyte['AddressInfo'].reload()"
   ]
  },
  {
   "cell_type": "markdown",
   "metadata": {},
   "source": [
    "To filter an EntitySet we just add a filter to our people object.  This effectively reduces the size of the dictionary to include only entities that match the filter.  The cache is cleared automatically."
   ]
  },
  {
   "cell_type": "code",
   "execution_count": null,
   "metadata": {},
   "outputs": [],
   "source": [
    "people.set_filter(\"FirstName eq 'Scott'\")\n",
    "[p for p in people]"
   ]
  },
  {
   "cell_type": "markdown",
   "metadata": {},
   "source": [
    "Pyslet contains an expression parser so if you forget your OData syntax you'll get an error from Python and not from the remote service"
   ]
  },
  {
   "cell_type": "code",
   "execution_count": null,
   "metadata": {},
   "outputs": [],
   "source": [
    "%%handle\n",
    "people.set_filter(\"FirstName == 'Scott'\")"
   ]
  },
  {
   "cell_type": "code",
   "execution_count": null,
   "metadata": {},
   "outputs": [],
   "source": [
    "airports.set_filter(\"contains(Location/Address, 'San Francisco')\")\n",
    "[a for a in airports]"
   ]
  },
  {
   "cell_type": "code",
   "execution_count": null,
   "metadata": {},
   "outputs": [],
   "source": [
    "people.set_filter(\"Gender eq Microsoft.OData.Service.Sample.TrippinInMemory.Models.PersonGender'Female'\")\n",
    "[p for p in people]"
   ]
  },
  {
   "cell_type": "markdown",
   "metadata": {},
   "source": [
    "These filters reduce the number of entities in our entity set.  Another type of filtering involves reducing the number of properties returned for each entity.  By default, *all* properties are selected.  As soon as we select a specific property then only those we've explicitly selected are returned."
   ]
  },
  {
   "cell_type": "code",
   "execution_count": null,
   "metadata": {},
   "outputs": [],
   "source": [
    "airports.select(\"Name\")\n",
    "airports.select(\"IcaoCode\")\n",
    "airports.set_filter(None)\n",
    "[a for a in airports]"
   ]
  },
  {
   "cell_type": "code",
   "execution_count": null,
   "metadata": {},
   "outputs": [],
   "source": [
    "sfo = airports['KSFO']\n",
    "list(sfo.keys())"
   ]
  },
  {
   "cell_type": "markdown",
   "metadata": {},
   "source": [
    "The next example involves a navigation property.  By default, navigation properties are not expanded and don't appear in the property dictionary of the Entity, let's remove the filter from people and *expand* a navigation property."
   ]
  },
  {
   "cell_type": "code",
   "execution_count": null,
   "metadata": {},
   "outputs": [],
   "source": [
    "people.set_filter(None)\n",
    "people.expand(\"Trips\")\n",
    "scottketchum = people['scottketchum']\n",
    "scottketchum['Trips']"
   ]
  },
  {
   "cell_type": "markdown",
   "metadata": {},
   "source": [
    "You might expect this to be an EntitySet, rather than a collection.  Afterall, this is a navigation property that relates a person to a collection of Trip *entities*..."
   ]
  },
  {
   "cell_type": "code",
   "execution_count": null,
   "metadata": {},
   "outputs": [],
   "source": [
    "print(type(scottketchum['Trips'].type_def.item_type))\n",
    "print(scottketchum['Trips'].type_def.item_type.qname)"
   ]
  },
  {
   "cell_type": "markdown",
   "metadata": {},
   "source": [
    "The reason for this is beyond the scope of a basic tutorial but if you want to know the answer, take a closer look at the metadata description of the TripPin service.  Pay close attention to the definition of the People EntitySet!  Although we can't look up Trips by key we can still apply an ordering (or a filter) to the output."
   ]
  },
  {
   "cell_type": "code",
   "execution_count": null,
   "metadata": {},
   "outputs": [],
   "source": [
    "scottketchum['Trips'].set_orderby(\"EndsAt desc\")\n",
    "[str(t['EndsAt']) for t in scottketchum['Trips']]"
   ]
  },
  {
   "cell_type": "code",
   "execution_count": null,
   "metadata": {},
   "outputs": [],
   "source": [
    "scottketchum['Trips'].set_orderby(\"EndsAt asc\")\n",
    "[str(t['EndsAt']) for t in scottketchum['Trips']]"
   ]
  },
  {
   "cell_type": "markdown",
   "metadata": {},
   "source": [
    "If you're familiar with Pyslet's OData v2 support watch out for the handling of top/skip, we now treat them the same as any other filter, effectively reducing the size of the collection (or entity set) to include only those entities in the designated range.  They're always set together."
   ]
  },
  {
   "cell_type": "code",
   "execution_count": null,
   "metadata": {},
   "outputs": [],
   "source": [
    "people.collapse(\"Trips\")\n",
    "people.set_page(top=2)\n",
    "[p for p in people]"
   ]
  },
  {
   "cell_type": "code",
   "execution_count": null,
   "metadata": {},
   "outputs": [],
   "source": [
    "people.set_page(top=None, skip=18)\n",
    "[p for p in people]"
   ]
  },
  {
   "cell_type": "code",
   "execution_count": null,
   "metadata": {},
   "outputs": [],
   "source": [
    "people.set_page(top=None)\n",
    "len(people)"
   ]
  },
  {
   "cell_type": "markdown",
   "metadata": {},
   "source": [
    "Singletons are like EntitySets except that they contain only one entity.  You can use select and expand but you can't use filters or ordering.  They are not indexable, to retrieve the entity they contain you just *call* them. "
   ]
  },
  {
   "cell_type": "code",
   "execution_count": null,
   "metadata": {},
   "outputs": [],
   "source": [
    "whoami = svc.open('Me')\n",
    "print(type(whoami))\n",
    "whoami.expand('Friends')\n",
    "me = whoami()\n",
    "print(me['UserName'])"
   ]
  },
  {
   "cell_type": "code",
   "execution_count": null,
   "metadata": {},
   "outputs": [],
   "source": [
    "fof = me['Friends']\n",
    "fof.set_filter(\"Friends/any(f:f/FirstName eq 'Scott')\")\n",
    "[str(f['UserName']) for f in fof]"
   ]
  },
  {
   "cell_type": "code",
   "execution_count": null,
   "metadata": {},
   "outputs": [],
   "source": [
    "people.expand('Trips')\n",
    "russellwhyte = people['russellwhyte']\n",
    "len(russellwhyte['Trips'])"
   ]
  },
  {
   "cell_type": "markdown",
   "metadata": {},
   "source": [
    "You can control a filter or page option on expansion using an explicit xpath..."
   ]
  },
  {
   "cell_type": "code",
   "execution_count": null,
   "metadata": {},
   "outputs": [],
   "source": [
    "people.set_page(top=1, xpath=\"Trips\")\n",
    "russellwhyte = people['russellwhyte']\n",
    "len(russellwhyte['Trips'])"
   ]
  },
  {
   "cell_type": "markdown",
   "metadata": {},
   "source": [
    "For a selection, you just use the full path to the desired property.  The expansion is done for you automatically, in the example below we use a clean people object to demonstrate."
   ]
  },
  {
   "cell_type": "code",
   "execution_count": null,
   "metadata": {},
   "outputs": [],
   "source": [
    "people = svc.open('People')\n",
    "people.select(\"Trips/TripId\")\n",
    "people.select(\"Trips/Name\")\n",
    "russellwhyte = people['russellwhyte']\n",
    "list(russellwhyte['Trips'][0].keys())"
   ]
  },
  {
   "cell_type": "code",
   "execution_count": null,
   "metadata": {},
   "outputs": [],
   "source": [
    "people.set_filter(\"Name eq 'Trip in US'\", xpath=\"Trips\")\n",
    "russellwhyte = people['russellwhyte']\n",
    "[str(t['Name']) for t in russellwhyte['Trips']]"
   ]
  },
  {
   "cell_type": "markdown",
   "metadata": {},
   "source": [
    "Creating entities is a multi-step process.  You create an entity object (using *new_item*) which is a transient value not yet bound to the data service.  It is also 'null' which means there are no properties!  Make the entity non-null by setting defaults, then set the values of the properties as desired and finally insert the new entity into the entity set."
   ]
  },
  {
   "cell_type": "code",
   "execution_count": null,
   "metadata": {},
   "outputs": [],
   "source": [
    "%%handle\n",
    "people.collapse(\"Trips\")\n",
    "people['lewisblack']"
   ]
  },
  {
   "cell_type": "code",
   "execution_count": null,
   "metadata": {},
   "outputs": [],
   "source": [
    "lewisblack = people.new_item()\n",
    "print(lewisblack.is_null())\n",
    "print(list(lewisblack.keys()))\n",
    "lewisblack.set_defaults()\n",
    "print(lewisblack.is_null())\n",
    "print(lewisblack.type_def['FirstName'].nullable)\n",
    "repr(lewisblack['FirstName'].get_value())"
   ]
  },
  {
   "cell_type": "markdown",
   "metadata": {},
   "source": [
    "set_defaults only marks fields dirty if there is a default and the property has been updated as a result, otherwise it leaves the value *unchanged*."
   ]
  },
  {
   "cell_type": "code",
   "execution_count": null,
   "metadata": {},
   "outputs": [],
   "source": [
    "lewisblack['FirstName'].set_value(\"Lewis\")\n",
    "lewisblack['FirstName'].clean()\n",
    "print(lewisblack['FirstName'].dirty)\n",
    "lewisblack.set_defaults()\n",
    "print(lewisblack['FirstName'])\n",
    "print(lewisblack['FirstName'].dirty)"
   ]
  },
  {
   "cell_type": "markdown",
   "metadata": {},
   "source": [
    "By chance the JSON dictionary format of the example is valid python so we can set all the properties in one go..."
   ]
  },
  {
   "cell_type": "code",
   "execution_count": null,
   "metadata": {},
   "outputs": [],
   "source": [
    "lewisblack.set_value({\n",
    "    \"UserName\":\"lewisblack\",\n",
    "    \"FirstName\":\"Lewis\",\n",
    "    \"LastName\":\"Black\",\n",
    "    \"Emails\":[\n",
    "        \"lewisblack@example.com\"\n",
    "    ],\n",
    "    \"AddressInfo\": [\n",
    "    {\n",
    "      \"Address\": \"187 Suffolk Ln.\",\n",
    "      \"City\": {\n",
    "        \"Name\": \"Boise\",\n",
    "        \"CountryRegion\": \"United States\",\n",
    "        \"Region\": \"ID\"\n",
    "      }\n",
    "    }\n",
    "    ]\n",
    "})\n",
    "lewisblack['AddressInfo'][0]['City']['Name'].get_value()"
   ]
  },
  {
   "cell_type": "code",
   "execution_count": null,
   "metadata": {},
   "outputs": [],
   "source": [
    "%%handle\n",
    "people.insert(lewisblack)"
   ]
  },
  {
   "cell_type": "markdown",
   "metadata": {},
   "source": [
    "What went wrong?  The trouble is that there are properties in the People entity that are non-nullable but that don't have defaults set so we *must* provide values for those fields.  Gender is an example."
   ]
  },
  {
   "cell_type": "code",
   "execution_count": null,
   "metadata": {},
   "outputs": [],
   "source": [
    "print(lewisblack['Gender'].is_null())\n",
    "print(lewisblack.type_def['Gender'].nullable)"
   ]
  },
  {
   "cell_type": "markdown",
   "metadata": {},
   "source": [
    "But in the example, Gender is not set so there must be some implicit default or computed value.  The way around the problem is to send only those properties that we've changed.  According to the specification it is OK to leave out properties if they can be computed by the service or are tied by referential constraints.  Also, services *may* add new nullable properties from time-to-time without breaking old clients so it's clearly OK to leave nullable values out.  Ideally, non-nullable values like Gender would be marked as being Computed so we would know it is OK to leave them out but this annotation is not used by TripPin.  The omit_clean option on insert allows us to override the default behaviour, effectively treating all clean values as either nullable, constrained or computable."
   ]
  },
  {
   "cell_type": "code",
   "execution_count": null,
   "metadata": {},
   "outputs": [],
   "source": [
    "lewisblack = people.new_item()\n",
    "lewisblack.set_defaults()\n",
    "lewisblack.set_value({\n",
    "    \"UserName\":\"lewisblack\",\n",
    "    \"FirstName\":\"Lewis\",\n",
    "    \"LastName\":\"Black\",\n",
    "    \"Emails\":[\n",
    "        \"lewisblack@example.com\"\n",
    "    ],\n",
    "    \"AddressInfo\": [\n",
    "    {\n",
    "      \"Address\": \"187 Suffolk Ln.\",\n",
    "      \"City\": {\n",
    "        \"Name\": \"Boise\",\n",
    "        \"CountryRegion\": \"United States\",\n",
    "        \"Region\": \"ID\"\n",
    "      }\n",
    "    }\n",
    "    ]\n",
    "})\n",
    "print(lewisblack['FirstName'].dirty)\n",
    "print(lewisblack['Gender'].dirty)\n",
    "people.insert(lewisblack, omit_clean=True)"
   ]
  },
  {
   "cell_type": "code",
   "execution_count": null,
   "metadata": {},
   "outputs": [],
   "source": [
    "people.clear_cache()\n",
    "lewisback = people['lewisblack']\n",
    "lewisblack['AddressInfo'][0]['City']['Name'].get_value()"
   ]
  },
  {
   "cell_type": "markdown",
   "metadata": {},
   "source": [
    "Out of curiosity, what was our computed Gender?"
   ]
  },
  {
   "cell_type": "code",
   "execution_count": null,
   "metadata": {},
   "outputs": [],
   "source": [
    "lewisblack['Gender'].get_value()"
   ]
  },
  {
   "cell_type": "markdown",
   "metadata": {},
   "source": [
    "Updating an entity works in a similar way except that PATCH semantics mean that only modified fields are sent to the data service anyway.  Changes are only made when you *commit* them, after which they are marked clean again."
   ]
  },
  {
   "cell_type": "code",
   "execution_count": null,
   "metadata": {},
   "outputs": [],
   "source": [
    "russellwhyte = people['russellwhyte']\n",
    "russellwhyte['FirstName'].set_value(\"Mirs\")\n",
    "russellwhyte['LastName'].set_value(\"King\")\n",
    "russellwhyte.commit()\n",
    "russellwhyte['FirstName'].dirty"
   ]
  },
  {
   "cell_type": "code",
   "execution_count": null,
   "metadata": {},
   "outputs": [],
   "source": [
    "people.clear_cache()\n",
    "russellwhyte = people['russellwhyte']\n",
    "print(\"%s %s\" % (russellwhyte['FirstName'], russellwhyte['LastName']))"
   ]
  },
  {
   "cell_type": "markdown",
   "metadata": {},
   "source": [
    "Finally, when you want to remove an entity you just delete it from the dictionary in the normal way."
   ]
  },
  {
   "cell_type": "code",
   "execution_count": null,
   "metadata": {},
   "outputs": [],
   "source": [
    "del people['russellwhyte']\n",
    "print(len(people))\n",
    "print(people.get('russellwhyte', \"Russell Whyte has been terminated\"))"
   ]
  },
  {
   "cell_type": "markdown",
   "metadata": {},
   "source": [
    "Unbound functions can be opened just like EntitySets and Singletons"
   ]
  },
  {
   "cell_type": "code",
   "execution_count": 4,
   "metadata": {},
   "outputs": [
    {
     "name": "stdout",
     "output_type": "stream",
     "text": [
      "<class 'pyslet.odata4.model.CallableValue'>\n",
      "<class 'pyslet.odata4.model.Function'>\n"
     ]
    },
    {
     "data": {
      "text/plain": [
       "'Microsoft.OData.Service.Sample.TrippinInMemory.Models.GetNearestAirport'"
      ]
     },
     "execution_count": 4,
     "metadata": {},
     "output_type": "execute_result"
    }
   ],
   "source": [
    "func = svc.open('GetNearestAirport')\n",
    "print(type(func))\n",
    "print(type(func.type_def))\n",
    "func.type_def.qname"
   ]
  },
  {
   "cell_type": "markdown",
   "metadata": {},
   "source": [
    "The CallableValue object behaves like a dictionary of parameter values, you set them just like you would set property values of Entities.  You *call* a function simply by calling it."
   ]
  },
  {
   "cell_type": "code",
   "execution_count": 6,
   "metadata": {},
   "outputs": [
    {
     "name": "stderr",
     "output_type": "stream",
     "text": [
      "INFO:root:Sending request to b'services.odata.org'\n",
      "INFO:root:b'GET /TripPinRESTierService/(S(c3qyeyrj5dfvdttasunydd3y))/GetNearestAirport(lat%3D33.0%2Clon%3D-11.0) HTTP/1.1'\n",
      "WARNING:root:socket.recv raised [Errno 54] Connection reset by peer\n",
      "INFO:root:Finished Response, status 200\n"
     ]
    },
    {
     "data": {
      "text/plain": [
       "'John F. Kennedy International Airport'"
      ]
     },
     "execution_count": 6,
     "metadata": {},
     "output_type": "execute_result"
    }
   ],
   "source": [
    "func['lat'].set_value(33)\n",
    "func['lon'].set_value(-11)\n",
    "airport = func()\n",
    "str(airport['Name'])"
   ]
  },
  {
   "cell_type": "markdown",
   "metadata": {},
   "source": [
    "Bound functions are opened from the value they are bound to using the get_callable method which takes the qualified name of the desired function as an argument.  Unfortunately we have to revist the problem we raised earlier with Trips being a CollectionValue instead of the more powerful EntitySetValue.  To access the Trip with TripId 0 we'd like to look up the key with trips[0] but that only does index lookup so returns the first Trip in the collection (which could have any TripId).  CollectionValue has a set_key_filter method to get around the problem, it filters the collection by a specific key value so that when we get the first entity in the list it is sure to be the entity we wanted.  This avoids iterating the whole collection scanning for ['TripId'].get_value() == 0."
   ]
  },
  {
   "cell_type": "code",
   "execution_count": 10,
   "metadata": {},
   "outputs": [
    {
     "name": "stderr",
     "output_type": "stream",
     "text": [
      "INFO:root:Sending request to b'services.odata.org'\n",
      "INFO:root:b\"GET /TripPinRESTierService/(S(c3qyeyrj5dfvdttasunydd3y))/People('russellwhyte')?%24expand=Trips HTTP/1.1\"\n",
      "INFO:root:Finished Response, status 200\n",
      "WARNING:root:Fixing missing ID for entity http://services.odata.org/TripPinRESTierService/(S(c3qyeyrj5dfvdttasunydd3y))/People('russellwhyte')/Trips(0)\n",
      "WARNING:root:Fixing missing ID for entity http://services.odata.org/TripPinRESTierService/(S(c3qyeyrj5dfvdttasunydd3y))/People('russellwhyte')/Trips(1)\n",
      "WARNING:root:Fixing missing ID for entity http://services.odata.org/TripPinRESTierService/(S(c3qyeyrj5dfvdttasunydd3y))/People('russellwhyte')/Trips(2)\n",
      "INFO:root:Sending request to b'services.odata.org'\n",
      "INFO:root:b\"GET /TripPinRESTierService/(S(c3qyeyrj5dfvdttasunydd3y))/People('russellwhyte')/Trips?%24filter=TripId%20eq%200 HTTP/1.1\"\n",
      "INFO:root:Finished Response, status 200\n",
      "WARNING:root:Fixing missing ID for entity http://services.odata.org/TripPinRESTierService/(S(c3qyeyrj5dfvdttasunydd3y))/People('russellwhyte')/Trips(0)\n",
      "INFO:root:Sending request to b'services.odata.org'\n",
      "INFO:root:b\"GET /TripPinRESTierService/(S(c3qyeyrj5dfvdttasunydd3y))/People('russellwhyte')/Trips(0)/Microsoft.OData.Service.Sample.TrippinInMemory.Models.GetInvolvedPeople() HTTP/1.1\"\n",
      "INFO:root:Finished Response, status 200\n"
     ]
    },
    {
     "data": {
      "text/plain": [
       "['russellwhyte', 'scottketchum']"
      ]
     },
     "execution_count": 10,
     "metadata": {},
     "output_type": "execute_result"
    }
   ],
   "source": [
    "people = svc.open('People')\n",
    "people.expand('Trips')\n",
    "russellwhyte = people['russellwhyte']\n",
    "trips = russellwhyte['Trips']\n",
    "trips.set_key_filter(0)\n",
    "trip = trips[0]\n",
    "f = trip.get_callable(\"Microsoft.OData.Service.Sample.TrippinInMemory.Models.GetInvolvedPeople\")\n",
    "ipeople = f()\n",
    "[str(ip['UserName']) for ip in ipeople]"
   ]
  },
  {
   "cell_type": "markdown",
   "metadata": {},
   "source": [
    "There is almost no difference between Functions and Actions in this API.  Bear in mind that an Action *may* return None indicating that there is no return value, whereas a Function *must* have a return value (even if it is null)."
   ]
  },
  {
   "cell_type": "code",
   "execution_count": 12,
   "metadata": {},
   "outputs": [
    {
     "name": "stderr",
     "output_type": "stream",
     "text": [
      "INFO:root:Sending request to b'services.odata.org'\n",
      "INFO:root:b'POST /TripPinRESTierService/(S(c3qyeyrj5dfvdttasunydd3y))/ResetDataSource HTTP/1.1'\n",
      "INFO:root:Finished Response, status 204\n"
     ]
    },
    {
     "data": {
      "text/plain": [
       "'None'"
      ]
     },
     "execution_count": 12,
     "metadata": {},
     "output_type": "execute_result"
    }
   ],
   "source": [
    "f = svc.open('ResetDataSource')\n",
    "repr(f())"
   ]
  },
  {
   "cell_type": "code",
   "execution_count": 13,
   "metadata": {},
   "outputs": [
    {
     "name": "stderr",
     "output_type": "stream",
     "text": [
      "INFO:root:Sending request to b'services.odata.org'\n",
      "INFO:root:b\"POST /TripPinRESTierService/(S(c3qyeyrj5dfvdttasunydd3y))/People('russellwhyte')/Microsoft.OData.Service.Sample.TrippinInMemory.Models.ShareTrip HTTP/1.1\"\n",
      "INFO:root:Finished Response, status 204\n"
     ]
    },
    {
     "data": {
      "text/plain": [
       "'None'"
      ]
     },
     "execution_count": 13,
     "metadata": {},
     "output_type": "execute_result"
    }
   ],
   "source": [
    "action = russellwhyte.get_callable(\"Microsoft.OData.Service.Sample.TrippinInMemory.Models.ShareTrip\")\n",
    "action['userName'].set_value('scottketchum')\n",
    "action['tripId'].set_value(0)\n",
    "repr(action())"
   ]
  }
 ],
 "metadata": {
  "kernelspec": {
   "display_name": "Python 3",
   "language": "python",
   "name": "python3"
  },
  "language_info": {
   "codemirror_mode": {
    "name": "ipython",
    "version": 3
   },
   "file_extension": ".py",
   "mimetype": "text/x-python",
   "name": "python",
   "nbconvert_exporter": "python",
   "pygments_lexer": "ipython3",
   "version": "3.5.3"
  }
 },
 "nbformat": 4,
 "nbformat_minor": 2
}
